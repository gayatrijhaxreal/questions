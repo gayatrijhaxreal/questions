{
 "cells": [
  {
   "cell_type": "code",
   "execution_count": 108,
   "id": "5548beff",
   "metadata": {},
   "outputs": [],
   "source": [
    "import numpy as np\n",
    "import pandas as pd"
   ]
  },
  {
   "cell_type": "markdown",
   "id": "aed684a1",
   "metadata": {},
   "source": [
    "**Part 5: Broadcasting & Conditional Logic**"
   ]
  },
  {
   "cell_type": "markdown",
   "id": "d351da67",
   "metadata": {},
   "source": [
    "**71. Add a 1D array v = np.array([1, 2, 3]) to each row of a 2D array M = np.ones((4,3)). What is\n",
    "this concept called?**"
   ]
  },
  {
   "cell_type": "code",
   "execution_count": 109,
   "id": "edd90e11",
   "metadata": {},
   "outputs": [],
   "source": [
    "v = np.array([1, 2, 3]) \n",
    "M = np.ones((4,3))\n"
   ]
  },
  {
   "cell_type": "code",
   "execution_count": 110,
   "id": "10f03d61",
   "metadata": {},
   "outputs": [
    {
     "data": {
      "text/plain": [
       "array([[2., 3., 4.],\n",
       "       [2., 3., 4.],\n",
       "       [2., 3., 4.],\n",
       "       [2., 3., 4.]])"
      ]
     },
     "execution_count": 110,
     "metadata": {},
     "output_type": "execute_result"
    }
   ],
   "source": [
    "M+v"
   ]
  },
  {
   "cell_type": "markdown",
   "id": "8715d919",
   "metadata": {},
   "source": [
    "**Can you add a (3,3) matrix and a (3,) vector? If so, how does it work?**"
   ]
  },
  {
   "cell_type": "code",
   "execution_count": 111,
   "id": "f0526b59",
   "metadata": {},
   "outputs": [
    {
     "data": {
      "text/plain": [
       "array([[0, 1, 2],\n",
       "       [3, 4, 5],\n",
       "       [6, 7, 8]])"
      ]
     },
     "execution_count": 111,
     "metadata": {},
     "output_type": "execute_result"
    }
   ],
   "source": [
    "A = np.arange(9) .reshape(3,3)\n",
    "A"
   ]
  },
  {
   "cell_type": "code",
   "execution_count": 112,
   "id": "e4437293",
   "metadata": {},
   "outputs": [],
   "source": [
    "v = ([10,20,30])"
   ]
  },
  {
   "cell_type": "code",
   "execution_count": 113,
   "id": "9c43dddd",
   "metadata": {},
   "outputs": [
    {
     "data": {
      "text/plain": [
       "array([[10, 21, 32],\n",
       "       [13, 24, 35],\n",
       "       [16, 27, 38]])"
      ]
     },
     "execution_count": 113,
     "metadata": {},
     "output_type": "execute_result"
    }
   ],
   "source": [
    "A+v"
   ]
  },
  {
   "cell_type": "markdown",
   "id": "d95b435c",
   "metadata": {},
   "source": [
    "**73. Can you add a (3,3) matrix and a (3,1) matrix?**"
   ]
  },
  {
   "cell_type": "code",
   "execution_count": 114,
   "id": "568118ab",
   "metadata": {},
   "outputs": [
    {
     "data": {
      "text/plain": [
       "array([[0, 1, 2],\n",
       "       [3, 4, 5],\n",
       "       [6, 7, 8]])"
      ]
     },
     "execution_count": 114,
     "metadata": {},
     "output_type": "execute_result"
    }
   ],
   "source": [
    "A\n"
   ]
  },
  {
   "cell_type": "code",
   "execution_count": 115,
   "id": "fc971871",
   "metadata": {},
   "outputs": [],
   "source": [
    "B= np.arange(3).reshape(3,1)"
   ]
  },
  {
   "cell_type": "code",
   "execution_count": 116,
   "id": "39a664e4",
   "metadata": {},
   "outputs": [
    {
     "data": {
      "text/plain": [
       "array([[0],\n",
       "       [1],\n",
       "       [2]])"
      ]
     },
     "execution_count": 116,
     "metadata": {},
     "output_type": "execute_result"
    }
   ],
   "source": [
    "B"
   ]
  },
  {
   "cell_type": "code",
   "execution_count": 117,
   "id": "d780419b",
   "metadata": {},
   "outputs": [
    {
     "data": {
      "text/plain": [
       "array([[ 0,  1,  2],\n",
       "       [ 4,  5,  6],\n",
       "       [ 8,  9, 10]])"
      ]
     },
     "execution_count": 117,
     "metadata": {},
     "output_type": "execute_result"
    }
   ],
   "source": [
    "A+B"
   ]
  },
  {
   "cell_type": "markdown",
   "id": "09777ede",
   "metadata": {},
   "source": [
    "**74. Create a 1D array arr = np.arange(10). Use np.where to create a new array where values are 0\n",
    "if the original value was less than 5, and the original value otherwise.**"
   ]
  },
  {
   "cell_type": "code",
   "execution_count": 118,
   "id": "cf6b7529",
   "metadata": {},
   "outputs": [
    {
     "data": {
      "text/plain": [
       "array([0, 1, 2, 3, 4, 5, 6, 7, 8, 9])"
      ]
     },
     "execution_count": 118,
     "metadata": {},
     "output_type": "execute_result"
    }
   ],
   "source": [
    "arr = np.arange(10)\n",
    "arr"
   ]
  },
  {
   "cell_type": "code",
   "execution_count": 119,
   "id": "ab439515",
   "metadata": {},
   "outputs": [
    {
     "data": {
      "text/plain": [
       "array([0, 0, 0, 0, 0, 5, 6, 7, 8, 9])"
      ]
     },
     "execution_count": 119,
     "metadata": {},
     "output_type": "execute_result"
    }
   ],
   "source": [
    "np.where(arr < 5, 0, arr)"
   ]
  },
  {
   "cell_type": "markdown",
   "id": "768d6eac",
   "metadata": {},
   "source": [
    "**75. Use np.where to create a new array from arr where even numbers are replaced by 0 and odd\n",
    "numbers by 1.**"
   ]
  },
  {
   "cell_type": "code",
   "execution_count": 120,
   "id": "af58717f",
   "metadata": {},
   "outputs": [
    {
     "data": {
      "text/plain": [
       "array([0, 1, 0, 1, 0, 1, 0, 1, 0, 1])"
      ]
     },
     "execution_count": 120,
     "metadata": {},
     "output_type": "execute_result"
    }
   ],
   "source": [
    "np.where(arr%2==0,0,1)"
   ]
  },
  {
   "cell_type": "markdown",
   "id": "b1b26834",
   "metadata": {},
   "source": [
    "**76. Create a 5x5 array of random integers. Use np.where to replace all values greater than 50 with\n",
    "the value 50.**"
   ]
  },
  {
   "cell_type": "code",
   "execution_count": 121,
   "id": "711a0180",
   "metadata": {},
   "outputs": [
    {
     "data": {
      "text/plain": [
       "array([[45, 46, 47, 48, 49],\n",
       "       [50, 51, 52, 53, 54],\n",
       "       [55, 56, 57, 58, 59],\n",
       "       [60, 61, 62, 63, 64],\n",
       "       [65, 66, 67, 68, 69]])"
      ]
     },
     "execution_count": 121,
     "metadata": {},
     "output_type": "execute_result"
    }
   ],
   "source": [
    "arr = np.arange(45,70).reshape(5,5)\n",
    "arr"
   ]
  },
  {
   "cell_type": "code",
   "execution_count": 122,
   "id": "72f078bc",
   "metadata": {},
   "outputs": [
    {
     "data": {
      "text/plain": [
       "array([[45, 46, 47, 48, 49],\n",
       "       [50, 50, 50, 50, 50],\n",
       "       [50, 50, 50, 50, 50],\n",
       "       [50, 50, 50, 50, 50],\n",
       "       [50, 50, 50, 50, 50]])"
      ]
     },
     "execution_count": 122,
     "metadata": {},
     "output_type": "execute_result"
    }
   ],
   "source": [
    "np.where(arr > 50, 50, arr)"
   ]
  },
  {
   "cell_type": "markdown",
   "id": "9c806cdc",
   "metadata": {},
   "source": [
    "**77. Create a 1D array from 1 to 10. Extract all numbers that are either less than 3 or greater than\n",
    "8.**"
   ]
  },
  {
   "cell_type": "code",
   "execution_count": 123,
   "id": "aacec500",
   "metadata": {},
   "outputs": [
    {
     "data": {
      "text/plain": [
       "array([ 1,  2,  3,  4,  5,  6,  7,  8,  9, 10])"
      ]
     },
     "execution_count": 123,
     "metadata": {},
     "output_type": "execute_result"
    }
   ],
   "source": [
    "arr = np.arange(1,11)\n",
    "arr"
   ]
  },
  {
   "cell_type": "code",
   "execution_count": 124,
   "id": "2a995d10",
   "metadata": {},
   "outputs": [
    {
     "data": {
      "text/plain": [
       "array([ 1,  2,  9, 10])"
      ]
     },
     "execution_count": 124,
     "metadata": {},
     "output_type": "execute_result"
    }
   ],
   "source": [
    "arr[(arr<3)|(arr>8)]"
   ]
  },
  {
   "cell_type": "markdown",
   "id": "1db6f626",
   "metadata": {},
   "source": [
    "**78. What will be the result of adding a (4,1) array to a (1,5) array?**"
   ]
  },
  {
   "cell_type": "code",
   "execution_count": 125,
   "id": "aa34e8ea",
   "metadata": {},
   "outputs": [
    {
     "data": {
      "text/plain": [
       "(4, 5)"
      ]
     },
     "execution_count": 125,
     "metadata": {},
     "output_type": "execute_result"
    }
   ],
   "source": [
    "\n",
    "\n",
    "a = np.arange(1, 5).reshape(4, 1)   \n",
    "b = np.arange(10, 15).reshape(1, 5) \n",
    "\n",
    "result = a + b\n",
    "result.shape\n"
   ]
  },
  {
   "cell_type": "markdown",
   "id": "39ded440",
   "metadata": {},
   "source": [
    "**Q79. Normalize a 5x5 random matrix**"
   ]
  },
  {
   "cell_type": "code",
   "execution_count": 126,
   "id": "780dbaaa",
   "metadata": {},
   "outputs": [
    {
     "data": {
      "text/plain": [
       "array([[-1.18895701, -1.10591783, -1.36729778, -1.09829745,  0.02404717],\n",
       "       [-0.42820396,  0.1976427 ,  1.8145447 , -0.96027964,  0.57193611],\n",
       "       [-0.55470967,  1.19866104, -0.12377032, -0.14559456,  1.67735554],\n",
       "       [ 1.42057663, -0.32198491,  1.7383779 ,  0.61760358,  0.04173211],\n",
       "       [-0.54705855, -1.30570804,  0.63257595,  0.52483265, -1.31210634]])"
      ]
     },
     "execution_count": 126,
     "metadata": {},
     "output_type": "execute_result"
    }
   ],
   "source": [
    "M = np.random.rand(5, 5)   \n",
    "\n",
    "mean = M.mean()\n",
    "std = M.std()\n",
    "\n",
    "normalized = (M - mean) / std\n",
    "normalized\n"
   ]
  },
  {
   "cell_type": "code",
   "execution_count": 127,
   "id": "53d55d81",
   "metadata": {},
   "outputs": [
    {
     "data": {
      "text/plain": [
       "array([[0.1150935 , 0.13778286, 0.06636424, 0.13986502, 0.44653087],\n",
       "       [0.32295922, 0.49396356, 0.93576068, 0.17757657, 0.59623429],\n",
       "       [0.28839321, 0.7674786 , 0.40614169, 0.40017851, 0.89827556],\n",
       "       [0.82811411, 0.35198218, 0.91494911, 0.60871232, 0.45136305],\n",
       "       [0.29048378, 0.08319282, 0.61280333, 0.58336389, 0.08144457]])"
      ]
     },
     "execution_count": 127,
     "metadata": {},
     "output_type": "execute_result"
    }
   ],
   "source": [
    "M"
   ]
  },
  {
   "cell_type": "markdown",
   "id": "8fae4004",
   "metadata": {},
   "source": [
    "**Q80. From 1D array → 2D array with rows as copies**"
   ]
  },
  {
   "cell_type": "code",
   "execution_count": 128,
   "id": "914c83ad",
   "metadata": {},
   "outputs": [
    {
     "data": {
      "text/plain": [
       "array([[1, 2, 3, 4],\n",
       "       [1, 2, 3, 4],\n",
       "       [1, 2, 3, 4]])"
      ]
     },
     "execution_count": 128,
     "metadata": {},
     "output_type": "execute_result"
    }
   ],
   "source": [
    "arr = np.array([1, 2, 3, 4])\n",
    "\n",
    "result1 = np.tile(arr, (3, 1))  \n",
    "\n",
    "result2 = np.zeros((3, arr.size)) + arr\n",
    "\n",
    "result1"
   ]
  },
  {
   "cell_type": "code",
   "execution_count": 129,
   "id": "2df89183",
   "metadata": {},
   "outputs": [
    {
     "data": {
      "text/plain": [
       "array([[1., 2., 3., 4.],\n",
       "       [1., 2., 3., 4.],\n",
       "       [1., 2., 3., 4.]])"
      ]
     },
     "execution_count": 129,
     "metadata": {},
     "output_type": "execute_result"
    }
   ],
   "source": [
    "result2"
   ]
  }
 ],
 "metadata": {
  "kernelspec": {
   "display_name": "Python 3",
   "language": "python",
   "name": "python3"
  },
  "language_info": {
   "codemirror_mode": {
    "name": "ipython",
    "version": 3
   },
   "file_extension": ".py",
   "mimetype": "text/x-python",
   "name": "python",
   "nbconvert_exporter": "python",
   "pygments_lexer": "ipython3",
   "version": "3.13.7"
  }
 },
 "nbformat": 4,
 "nbformat_minor": 5
}
