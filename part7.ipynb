{
 "cells": [
  {
   "cell_type": "code",
   "execution_count": 61,
   "id": "329b08bf",
   "metadata": {},
   "outputs": [],
   "source": [
    "import numpy as np\n",
    "import pandas as pd"
   ]
  },
  {
   "cell_type": "markdown",
   "id": "0efc74b9",
   "metadata": {},
   "source": [
    "Part 7: Practical Applications (Linear Algebra & I/O)\n"
   ]
  },
  {
   "cell_type": "markdown",
   "id": "8636d999",
   "metadata": {},
   "source": [
    "**96. Create a 2x2 matrix A and a 2x2 matrix B. Perform matrix multiplication.**"
   ]
  },
  {
   "cell_type": "code",
   "execution_count": 62,
   "id": "63236720",
   "metadata": {},
   "outputs": [],
   "source": [
    "A = np.arange(1,5) .reshape(2,2)\n",
    "B = np.arange(5,9) .reshape(2,2)"
   ]
  },
  {
   "cell_type": "code",
   "execution_count": 63,
   "id": "09cf1c5b",
   "metadata": {},
   "outputs": [
    {
     "data": {
      "text/plain": [
       "array([[19, 22],\n",
       "       [43, 50]])"
      ]
     },
     "execution_count": 63,
     "metadata": {},
     "output_type": "execute_result"
    }
   ],
   "source": [
    "A@B"
   ]
  },
  {
   "cell_type": "markdown",
   "id": "b6f64bd1",
   "metadata": {},
   "source": [
    "**97. Find the inverse of matrix A**"
   ]
  },
  {
   "cell_type": "code",
   "execution_count": 64,
   "id": "72d84b9a",
   "metadata": {},
   "outputs": [
    {
     "data": {
      "text/plain": [
       "array([[-2. ,  1. ],\n",
       "       [ 1.5, -0.5]])"
      ]
     },
     "execution_count": 64,
     "metadata": {},
     "output_type": "execute_result"
    }
   ],
   "source": [
    "np.linalg.inv(A)"
   ]
  },
  {
   "cell_type": "markdown",
   "id": "5bc6bfd9",
   "metadata": {},
   "source": [
    "**98. Find the determinant of matrix B.**"
   ]
  },
  {
   "cell_type": "code",
   "execution_count": 65,
   "id": "fb0c79dd",
   "metadata": {},
   "outputs": [
    {
     "data": {
      "text/plain": [
       "np.float64(-2.000000000000005)"
      ]
     },
     "execution_count": 65,
     "metadata": {},
     "output_type": "execute_result"
    }
   ],
   "source": [
    "np.linalg.det(B)"
   ]
  },
  {
   "cell_type": "markdown",
   "id": "1a5be658",
   "metadata": {},
   "source": [
    "**99. Save a NumPy array to a binary file named my_array.npy**"
   ]
  },
  {
   "cell_type": "code",
   "execution_count": 66,
   "id": "e9e71a91",
   "metadata": {},
   "outputs": [],
   "source": [
    "arr = np.array([1, 2, 3, 4, 5])\n",
    "\n",
    "np.save(\"my_array.npy\", arr)"
   ]
  },
  {
   "cell_type": "markdown",
   "id": "75b2d0ed",
   "metadata": {},
   "source": [
    "**100. Load the array from my_array.npy.**"
   ]
  },
  {
   "cell_type": "code",
   "execution_count": 67,
   "id": "9e7f5cf4",
   "metadata": {},
   "outputs": [
    {
     "data": {
      "text/plain": [
       "array([1, 2, 3, 4, 5])"
      ]
     },
     "execution_count": 67,
     "metadata": {},
     "output_type": "execute_result"
    }
   ],
   "source": [
    "\n",
    "loaded_arr = np.load(\"my_array.npy\")\n",
    "\n",
    "loaded_arr\n"
   ]
  },
  {
   "cell_type": "markdown",
   "id": "c5673c23",
   "metadata": {},
   "source": [
    "**101. Save a 2D array to a text file my_matrix.csv with comma-separated values.\n",
    " Hint: Use np.savetxt() with the delimiter argumen**"
   ]
  },
  {
   "cell_type": "code",
   "execution_count": 68,
   "id": "46da18d3",
   "metadata": {},
   "outputs": [],
   "source": [
    "matrix = np.array([[1, 2, 3],[4, 5, 6],  [7, 8, 9]])\n",
    "\n",
    "\n",
    "np.savetxt(\"my_matrix.csv\", matrix, delimiter=\",\", fmt=\"%d\")\n"
   ]
  }
 ],
 "metadata": {
  "kernelspec": {
   "display_name": "Python 3",
   "language": "python",
   "name": "python3"
  },
  "language_info": {
   "codemirror_mode": {
    "name": "ipython",
    "version": 3
   },
   "file_extension": ".py",
   "mimetype": "text/x-python",
   "name": "python",
   "nbconvert_exporter": "python",
   "pygments_lexer": "ipython3",
   "version": "3.13.7"
  }
 },
 "nbformat": 4,
 "nbformat_minor": 5
}
