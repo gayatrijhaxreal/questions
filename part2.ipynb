{
 "cells": [
  {
   "cell_type": "markdown",
   "id": "5aad4cd5",
   "metadata": {},
   "source": [
    "**Part 2: Indexing & Slicing (Accessing Your Data)**"
   ]
  },
  {
   "cell_type": "markdown",
   "id": "ba7bfefd",
   "metadata": {},
   "source": [
    "**From arr_1d, get the first element.**"
   ]
  },
  {
   "cell_type": "code",
   "execution_count": 7,
   "id": "f6870c4d",
   "metadata": {},
   "outputs": [
    {
     "ename": "ModuleNotFoundError",
     "evalue": "No module named 'numpy'",
     "output_type": "error",
     "traceback": [
      "\u001b[31m---------------------------------------------------------------------------\u001b[39m",
      "\u001b[31mModuleNotFoundError\u001b[39m                       Traceback (most recent call last)",
      "\u001b[36mCell\u001b[39m\u001b[36m \u001b[39m\u001b[32mIn[7]\u001b[39m\u001b[32m, line 1\u001b[39m\n\u001b[32m----> \u001b[39m\u001b[32m1\u001b[39m \u001b[38;5;28;01mimport\u001b[39;00m\u001b[38;5;250m \u001b[39m\u001b[34;01mnumpy\u001b[39;00m\u001b[38;5;250m \u001b[39m\u001b[38;5;28;01mas\u001b[39;00m\u001b[38;5;250m \u001b[39m\u001b[34;01mnp\u001b[39;00m\n\u001b[32m      2\u001b[39m \u001b[38;5;28;01mimport\u001b[39;00m\u001b[38;5;250m \u001b[39m\u001b[34;01mpandas\u001b[39;00m\u001b[38;5;250m \u001b[39m\u001b[38;5;28;01mas\u001b[39;00m\u001b[38;5;250m \u001b[39m\u001b[34;01mpd\u001b[39;00m\n",
      "\u001b[31mModuleNotFoundError\u001b[39m: No module named 'numpy'"
     ]
    }
   ],
   "source": [
    "import numpy as np\n",
    "import pandas as pd"
   ]
  },
  {
   "cell_type": "code",
   "execution_count": null,
   "id": "6ef007b1",
   "metadata": {},
   "outputs": [
    {
     "ename": "SyntaxError",
     "evalue": "invalid syntax (2071918070.py, line 1)",
     "output_type": "error",
     "traceback": [
      "  \u001b[36mCell\u001b[39m\u001b[36m \u001b[39m\u001b[32mIn[8]\u001b[39m\u001b[32m, line 1\u001b[39m\n\u001b[31m    \u001b[39m\u001b[31minstall pip\u001b[39m\n            ^\n\u001b[31mSyntaxError\u001b[39m\u001b[31m:\u001b[39m invalid syntax\n"
     ]
    }
   ],
   "source": [
    "\n"
   ]
  },
  {
   "cell_type": "code",
   "execution_count": 3,
   "id": "f44b25b0",
   "metadata": {},
   "outputs": [
    {
     "ename": "NameError",
     "evalue": "name 'np' is not defined",
     "output_type": "error",
     "traceback": [
      "\u001b[31m---------------------------------------------------------------------------\u001b[39m",
      "\u001b[31mNameError\u001b[39m                                 Traceback (most recent call last)",
      "\u001b[36mCell\u001b[39m\u001b[36m \u001b[39m\u001b[32mIn[3]\u001b[39m\u001b[32m, line 1\u001b[39m\n\u001b[32m----> \u001b[39m\u001b[32m1\u001b[39m arr_1d = \u001b[43mnp\u001b[49m.arange(\u001b[32m10\u001b[39m)\n\u001b[32m      2\u001b[39m arr_2d = np.array([[\u001b[32m1\u001b[39m,\u001b[32m2\u001b[39m,\u001b[32m3\u001b[39m],[\u001b[32m4\u001b[39m,\u001b[32m5\u001b[39m,\u001b[32m6\u001b[39m],[\u001b[32m7\u001b[39m,\u001b[32m8\u001b[39m,\u001b[32m9\u001b[39m]])\n",
      "\u001b[31mNameError\u001b[39m: name 'np' is not defined"
     ]
    }
   ],
   "source": [
    "arr_1d = np.arange(10)\n",
    "arr_2d = np.array([[1,2,3],[4,5,6],[7,8,9]])"
   ]
  },
  {
   "cell_type": "code",
   "execution_count": 5,
   "id": "5cf160b8",
   "metadata": {
    "vscode": {
     "languageId": "markdown"
    }
   },
   "outputs": [
    {
     "ename": "SyntaxError",
     "evalue": "invalid syntax (2240190195.py, line 1)",
     "output_type": "error",
     "traceback": [
      "  \u001b[36mCell\u001b[39m\u001b[36m \u001b[39m\u001b[32mIn[5]\u001b[39m\u001b[32m, line 1\u001b[39m\n\u001b[31m    \u001b[39m\u001b[31mYou can perform any operation using the imported modules (`numpy`, `pandas`) or the variables already defined (`arr_1d`, `arr_2d`). For example, you can:\u001b[39m\n        ^\n\u001b[31mSyntaxError\u001b[39m\u001b[31m:\u001b[39m invalid syntax\n"
     ]
    }
   ],
   "source": [
    "You can perform any operation using the imported modules (`numpy`, `pandas`) or the variables already defined (`arr_1d`, `arr_2d`). For example, you can:\n",
    "\n",
    "- Display the shape of `arr_1d` or `arr_2d`:\n",
    "    ```python\n",
    "    arr_1d.shape, arr_2d.shape\n",
    "    ```\n",
    "\n",
    "- Calculate the sum or mean of the arrays:\n",
    "    ```python\n",
    "    arr_1d.sum(), arr_2d.mean()\n",
    "    ```\n",
    "\n",
    "- Convert `arr_2d` to a pandas DataFrame:\n",
    "    ```python\n",
    "    pd.DataFrame(arr_2d)\n",
    "    ```\n",
    "\n",
    "- Check the data type of the arrays:\n",
    "    ```python\n",
    "    arr_1d.dtype, arr_2d.dtype\n",
    "    ```\n",
    "\n",
    "Let me know what you want to try!"
   ]
  },
  {
   "cell_type": "markdown",
   "id": "a3f083f3",
   "metadata": {},
   "source": [
    "**From arr_1d, get the first element.**"
   ]
  },
  {
   "cell_type": "code",
   "execution_count": null,
   "id": "21088384",
   "metadata": {},
   "outputs": [
    {
     "data": {
      "text/plain": [
       "np.int64(0)"
      ]
     },
     "execution_count": 5,
     "metadata": {},
     "output_type": "execute_result"
    }
   ],
   "source": [
    "arr_1d[0]"
   ]
  },
  {
   "cell_type": "markdown",
   "id": "c6a38033",
   "metadata": {},
   "source": [
    "**From arr_1d, get the last element**"
   ]
  },
  {
   "cell_type": "code",
   "execution_count": null,
   "id": "6b9119d2",
   "metadata": {},
   "outputs": [
    {
     "data": {
      "text/plain": [
       "np.int64(9)"
      ]
     },
     "execution_count": 6,
     "metadata": {},
     "output_type": "execute_result"
    }
   ],
   "source": [
    "arr_1d[-1]"
   ]
  },
  {
   "cell_type": "markdown",
   "id": "578e23af",
   "metadata": {},
   "source": [
    "**. From arr_1d, get the elements from index 2 up to index 5**"
   ]
  },
  {
   "cell_type": "code",
   "execution_count": null,
   "id": "67e03367",
   "metadata": {},
   "outputs": [
    {
     "data": {
      "text/plain": [
       "array([2, 3, 4, 5])"
      ]
     },
     "execution_count": 7,
     "metadata": {},
     "output_type": "execute_result"
    }
   ],
   "source": [
    "arr_1d[2:6]"
   ]
  },
  {
   "cell_type": "markdown",
   "id": "257f200a",
   "metadata": {},
   "source": [
    "**From arr_1d, get all elements in reverse order.**"
   ]
  },
  {
   "cell_type": "code",
   "execution_count": null,
   "id": "16df79eb",
   "metadata": {},
   "outputs": [
    {
     "data": {
      "text/plain": [
       "array([9, 8, 7, 6, 5, 4, 3, 2, 1, 0])"
      ]
     },
     "execution_count": 8,
     "metadata": {},
     "output_type": "execute_result"
    }
   ],
   "source": [
    "arr_1d[::-1]"
   ]
  },
  {
   "cell_type": "markdown",
   "id": "d1abea9e",
   "metadata": {},
   "source": [
    "**From arr_2d, get the element at row 1, column 2 (which is 6).**"
   ]
  },
  {
   "cell_type": "code",
   "execution_count": null,
   "id": "cb17e5bf",
   "metadata": {},
   "outputs": [
    {
     "data": {
      "text/plain": [
       "np.int64(6)"
      ]
     },
     "execution_count": 9,
     "metadata": {},
     "output_type": "execute_result"
    }
   ],
   "source": [
    "arr_2d[1, 2]"
   ]
  },
  {
   "cell_type": "markdown",
   "id": "2819b3ba",
   "metadata": {},
   "source": [
    "**From arr_2d, get the entire first row [1, 2, 3].**"
   ]
  },
  {
   "cell_type": "code",
   "execution_count": null,
   "id": "503f3d9d",
   "metadata": {},
   "outputs": [
    {
     "data": {
      "text/plain": [
       "array([1, 2, 3])"
      ]
     },
     "execution_count": 10,
     "metadata": {},
     "output_type": "execute_result"
    }
   ],
   "source": [
    "arr_2d[0]"
   ]
  },
  {
   "cell_type": "markdown",
   "id": "cc0e5a38",
   "metadata": {},
   "source": [
    "**From arr_2d, get the entire second column [2, 5, 8]**"
   ]
  },
  {
   "cell_type": "code",
   "execution_count": null,
   "id": "59118cac",
   "metadata": {},
   "outputs": [
    {
     "data": {
      "text/plain": [
       "array([2, 5, 8])"
      ]
     },
     "execution_count": 11,
     "metadata": {},
     "output_type": "execute_result"
    }
   ],
   "source": [
    "arr_2d[:,1]"
   ]
  },
  {
   "cell_type": "markdown",
   "id": "e0ee2c28",
   "metadata": {},
   "source": [
    "**. From arr_2d, extract the sub-array [[1, 2], [4, 5]]**"
   ]
  },
  {
   "cell_type": "code",
   "execution_count": null,
   "id": "7f77ec4f",
   "metadata": {},
   "outputs": [
    {
     "data": {
      "text/plain": [
       "array([[1, 2],\n",
       "       [4, 5]])"
      ]
     },
     "execution_count": 12,
     "metadata": {},
     "output_type": "execute_result"
    }
   ],
   "source": [
    "arr_2d[:2,:2]"
   ]
  },
  {
   "cell_type": "markdown",
   "id": "fda16eec",
   "metadata": {},
   "source": [
    "**Create a boolean mask to find all numbers in arr_1d that are greater than 5.**"
   ]
  },
  {
   "cell_type": "code",
   "execution_count": null,
   "id": "c32f6d70",
   "metadata": {},
   "outputs": [
    {
     "data": {
      "text/plain": [
       "array([False, False, False, False, False, False,  True,  True,  True,\n",
       "        True])"
      ]
     },
     "execution_count": 13,
     "metadata": {},
     "output_type": "execute_result"
    }
   ],
   "source": [
    "bool_mask = arr_1d>5\n",
    "bool_mask"
   ]
  },
  {
   "cell_type": "code",
   "execution_count": null,
   "id": "ac98b5d9",
   "metadata": {},
   "outputs": [
    {
     "data": {
      "text/plain": [
       "array([6, 7, 8, 9])"
      ]
     },
     "execution_count": 14,
     "metadata": {},
     "output_type": "execute_result"
    }
   ],
   "source": [
    "arr_1d[bool_mask]\n"
   ]
  },
  {
   "cell_type": "markdown",
   "id": "2fc552fa",
   "metadata": {},
   "source": [
    "**Use the boolean mask from the previous question to select the actual numbers from arr_1d**"
   ]
  },
  {
   "cell_type": "code",
   "execution_count": null,
   "id": "c8f67961",
   "metadata": {},
   "outputs": [
    {
     "data": {
      "text/plain": [
       "array([6, 7, 8, 9])"
      ]
     },
     "execution_count": 15,
     "metadata": {},
     "output_type": "execute_result"
    }
   ],
   "source": [
    "arr_1d\n",
    "mask = arr_1d[bool_mask]\n",
    "mask"
   ]
  },
  {
   "cell_type": "markdown",
   "id": "b59cfccc",
   "metadata": {},
   "source": [
    "**In one line, select all numbers from arr_2d that are odd.**"
   ]
  },
  {
   "cell_type": "code",
   "execution_count": null,
   "id": "4c617fc5",
   "metadata": {},
   "outputs": [
    {
     "data": {
      "text/plain": [
       "array([[ True, False,  True],\n",
       "       [False,  True, False],\n",
       "       [ True, False,  True]])"
      ]
     },
     "execution_count": 16,
     "metadata": {},
     "output_type": "execute_result"
    }
   ],
   "source": [
    "bool_index = arr_2d % 2 != 0\n",
    "bool_index\n"
   ]
  },
  {
   "cell_type": "code",
   "execution_count": null,
   "id": "52358844",
   "metadata": {},
   "outputs": [
    {
     "data": {
      "text/plain": [
       "array([1, 3, 5, 7, 9])"
      ]
     },
     "execution_count": 17,
     "metadata": {},
     "output_type": "execute_result"
    }
   ],
   "source": [
    "bool_index = arr_2d[bool_index]\n",
    "bool_index"
   ]
  },
  {
   "cell_type": "markdown",
   "id": "b860546f",
   "metadata": {},
   "source": [
    "**In arr_1d, replace all values greater than 5 with the value 0.**"
   ]
  },
  {
   "cell_type": "code",
   "execution_count": null,
   "id": "6c475446",
   "metadata": {},
   "outputs": [
    {
     "data": {
      "text/plain": [
       "array([0, 1, 2, 3, 4, 5, 0, 0, 0, 0])"
      ]
     },
     "execution_count": 18,
     "metadata": {},
     "output_type": "execute_result"
    }
   ],
   "source": [
    "bool_index = arr_1d[arr_1d > 5] = 0 \n",
    "bool_index\n",
    "arr_1d"
   ]
  },
  {
   "cell_type": "markdown",
   "id": "8302c137",
   "metadata": {},
   "source": [
    "**From arr_1d, select the elements at indices 1, 3, and 7.**"
   ]
  },
  {
   "cell_type": "code",
   "execution_count": null,
   "id": "efd2319b",
   "metadata": {},
   "outputs": [
    {
     "data": {
      "text/plain": [
       "array([0, 1, 2, 3, 4, 5, 0, 0, 0, 0])"
      ]
     },
     "execution_count": 19,
     "metadata": {},
     "output_type": "execute_result"
    }
   ],
   "source": [
    "arr_1d"
   ]
  },
  {
   "cell_type": "code",
   "execution_count": null,
   "id": "c02e5ee6",
   "metadata": {},
   "outputs": [
    {
     "data": {
      "text/plain": [
       "array([1, 3, 7])"
      ]
     },
     "execution_count": 20,
     "metadata": {},
     "output_type": "execute_result"
    }
   ],
   "source": [
    "arr_1d = np.arange(10)\n",
    "selected = arr_1d[[1, 3, 7]]\n",
    "selected"
   ]
  },
  {
   "cell_type": "markdown",
   "id": "c3fa89ff",
   "metadata": {},
   "source": [
    "**From arr_2d, select the first and third rows**"
   ]
  },
  {
   "cell_type": "code",
   "execution_count": null,
   "id": "b5371fa5",
   "metadata": {},
   "outputs": [
    {
     "data": {
      "text/plain": [
       "array([[1, 2, 3],\n",
       "       [7, 8, 9]])"
      ]
     },
     "execution_count": 21,
     "metadata": {},
     "output_type": "execute_result"
    }
   ],
   "source": [
    "arr_2d[[0, 2]]"
   ]
  },
  {
   "cell_type": "markdown",
   "id": "b1d269f2",
   "metadata": {},
   "source": [
    "**What is the difference between a slice (view) and a fancy index (copy)? Modify a slice ofarr_1d and see if the original changes**"
   ]
  },
  {
   "cell_type": "code",
   "execution_count": null,
   "id": "b5887950",
   "metadata": {},
   "outputs": [
    {
     "data": {
      "text/plain": [
       "array([0, 1, 2, 3, 4, 5, 6, 7, 8, 9])"
      ]
     },
     "execution_count": 22,
     "metadata": {},
     "output_type": "execute_result"
    }
   ],
   "source": [
    "arr_1d"
   ]
  },
  {
   "cell_type": "code",
   "execution_count": null,
   "id": "af194750",
   "metadata": {},
   "outputs": [
    {
     "data": {
      "text/plain": [
       "array([0, 1, 2, 3, 4, 5, 6, 7, 8, 9])"
      ]
     },
     "execution_count": 23,
     "metadata": {},
     "output_type": "execute_result"
    }
   ],
   "source": [
    "arr_1d = np.arange(10) \n",
    "arr_1d"
   ]
  },
  {
   "cell_type": "code",
   "execution_count": null,
   "id": "aad56752",
   "metadata": {},
   "outputs": [
    {
     "data": {
      "text/plain": [
       "array([2, 3, 4])"
      ]
     },
     "execution_count": 24,
     "metadata": {},
     "output_type": "execute_result"
    }
   ],
   "source": [
    "slice_view = arr_1d[2:5]   \n",
    "slice_view\n"
   ]
  },
  {
   "cell_type": "code",
   "execution_count": null,
   "id": "95fa34b5",
   "metadata": {},
   "outputs": [
    {
     "data": {
      "text/plain": [
       "array([ 0,  1, 99, 99, 99,  5,  6,  7,  8,  9])"
      ]
     },
     "execution_count": 25,
     "metadata": {},
     "output_type": "execute_result"
    }
   ],
   "source": [
    "slice_view[:] = 99         \n",
    "slice_view\n",
    "\n",
    "arr_1d"
   ]
  },
  {
   "cell_type": "code",
   "execution_count": null,
   "id": "0447e548",
   "metadata": {},
   "outputs": [
    {
     "data": {
      "text/plain": [
       "array([ 1, 99,  5])"
      ]
     },
     "execution_count": 26,
     "metadata": {},
     "output_type": "execute_result"
    }
   ],
   "source": [
    "fancy_copy = arr_1d[[1, 3, 5]]\n",
    "fancy_copy\n"
   ]
  },
  {
   "cell_type": "code",
   "execution_count": null,
   "id": "ee430888",
   "metadata": {},
   "outputs": [
    {
     "data": {
      "text/plain": [
       "array([77, 77, 77])"
      ]
     },
     "execution_count": 27,
     "metadata": {},
     "output_type": "execute_result"
    }
   ],
   "source": [
    "fancy_copy[:] = 77        \n",
    "fancy_copy\n",
    "\n"
   ]
  },
  {
   "cell_type": "code",
   "execution_count": null,
   "id": "6039fa22",
   "metadata": {},
   "outputs": [
    {
     "data": {
      "text/plain": [
       "array([ 0,  1, 99, 99, 99,  5,  6,  7,  8,  9])"
      ]
     },
     "execution_count": 28,
     "metadata": {},
     "output_type": "execute_result"
    }
   ],
   "source": [
    "arr_1d"
   ]
  },
  {
   "cell_type": "markdown",
   "id": "4c1e0cb7",
   "metadata": {},
   "source": [
    "**Create a copy of arr_2d and modify an element in the copy. Check if the original array is affected.**"
   ]
  },
  {
   "cell_type": "code",
   "execution_count": null,
   "id": "95bf760a",
   "metadata": {},
   "outputs": [
    {
     "data": {
      "text/plain": [
       "array([[1, 2, 3],\n",
       "       [4, 5, 6],\n",
       "       [7, 8, 9]])"
      ]
     },
     "execution_count": 29,
     "metadata": {},
     "output_type": "execute_result"
    }
   ],
   "source": [
    "fancy_copy = np.copy(arr_2d)\n",
    "fancy_copy\n"
   ]
  },
  {
   "cell_type": "markdown",
   "id": "6eb82fdb",
   "metadata": {},
   "source": [
    "**From arr_2d, get the diagonal elements [1, 5, 9]**"
   ]
  },
  {
   "cell_type": "code",
   "execution_count": null,
   "id": "b5c99be7",
   "metadata": {},
   "outputs": [
    {
     "data": {
      "text/plain": [
       "array([1, 5, 9])"
      ]
     },
     "execution_count": 30,
     "metadata": {},
     "output_type": "execute_result"
    }
   ],
   "source": [
    "np.diag(arr_2d)"
   ]
  },
  {
   "cell_type": "markdown",
   "id": "f8b0e0fa",
   "metadata": {},
   "source": [
    "**Select all rows from arr_2d where the first element is less than 5**"
   ]
  },
  {
   "cell_type": "code",
   "execution_count": null,
   "id": "b3cac5b3",
   "metadata": {},
   "outputs": [
    {
     "data": {
      "text/plain": [
       "array([ True,  True, False])"
      ]
     },
     "execution_count": 31,
     "metadata": {},
     "output_type": "execute_result"
    }
   ],
   "source": [
    "bool_mask = arr_2d[:, 0] < 5\n",
    "bool_mask"
   ]
  },
  {
   "cell_type": "code",
   "execution_count": null,
   "id": "fdece391",
   "metadata": {},
   "outputs": [
    {
     "data": {
      "text/plain": [
       "array([[1, 2, 3],\n",
       "       [4, 5, 6]])"
      ]
     },
     "execution_count": 32,
     "metadata": {},
     "output_type": "execute_result"
    }
   ],
   "source": [
    "bool_mask = arr_2d[bool_mask]\n",
    "bool_mask"
   ]
  },
  {
   "cell_type": "markdown",
   "id": "f33f24ca",
   "metadata": {},
   "source": [
    "**Frm arr_2d, select the elements [2, 4, 9].**"
   ]
  },
  {
   "cell_type": "code",
   "execution_count": null,
   "id": "51fe5392",
   "metadata": {},
   "outputs": [
    {
     "data": {
      "text/plain": [
       "array([2, 4, 9])"
      ]
     },
     "execution_count": 34,
     "metadata": {},
     "output_type": "execute_result"
    }
   ],
   "source": [
    "arr_2d\n",
    "arr_2d[[0, 1, 2], [1, 0, 2]]"
   ]
  },
  {
   "cell_type": "markdown",
   "id": "f91eeef8",
   "metadata": {},
   "source": [
    "**Reverse the order of the rows in arr_2d.**"
   ]
  },
  {
   "cell_type": "code",
   "execution_count": null,
   "id": "266c5c6c",
   "metadata": {},
   "outputs": [
    {
     "data": {
      "text/plain": [
       "array([[7, 8, 9],\n",
       "       [4, 5, 6],\n",
       "       [1, 2, 3]])"
      ]
     },
     "execution_count": 35,
     "metadata": {},
     "output_type": "execute_result"
    }
   ],
   "source": [
    "arr_2d[::-1]"
   ]
  }
 ],
 "metadata": {
  "kernelspec": {
   "display_name": "Python 3",
   "language": "python",
   "name": "python3"
  },
  "language_info": {
   "codemirror_mode": {
    "name": "ipython",
    "version": 3
   },
   "file_extension": ".py",
   "mimetype": "text/x-python",
   "name": "python",
   "nbconvert_exporter": "python",
   "pygments_lexer": "ipython3",
   "version": "3.13.7"
  }
 },
 "nbformat": 4,
 "nbformat_minor": 5
}
