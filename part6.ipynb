{
 "cells": [
  {
   "cell_type": "markdown",
   "id": "2875e9b3",
   "metadata": {},
   "source": [
    "**Part 6: Statistics, Sorting, & Searching**\n"
   ]
  },
  {
   "cell_type": "code",
   "execution_count": 2,
   "id": "fe01b2ec",
   "metadata": {},
   "outputs": [],
   "source": [
    "import pandas as pd\n",
    "import numpy as np"
   ]
  },
  {
   "cell_type": "markdown",
   "id": "ff05fd16",
   "metadata": {},
   "source": [
    "**81. Create a 1D array of 10 random integers and sort it in ascending order.**"
   ]
  },
  {
   "cell_type": "code",
   "execution_count": 6,
   "id": "9da9f977",
   "metadata": {},
   "outputs": [
    {
     "data": {
      "text/plain": [
       "array([88, 31, 11, 25, 36, 91, 75, 34, 20, 59], dtype=int32)"
      ]
     },
     "execution_count": 6,
     "metadata": {},
     "output_type": "execute_result"
    }
   ],
   "source": [
    "M = np.random.randint(1,100 ,size =10)\n",
    "M"
   ]
  },
  {
   "cell_type": "code",
   "execution_count": null,
   "id": "1f34a0bc",
   "metadata": {},
   "outputs": [],
   "source": []
  }
 ],
 "metadata": {
  "kernelspec": {
   "display_name": "Python 3",
   "language": "python",
   "name": "python3"
  },
  "language_info": {
   "codemirror_mode": {
    "name": "ipython",
    "version": 3
   },
   "file_extension": ".py",
   "mimetype": "text/x-python",
   "name": "python",
   "nbconvert_exporter": "python",
   "pygments_lexer": "ipython3",
   "version": "3.13.7"
  }
 },
 "nbformat": 4,
 "nbformat_minor": 5
}
