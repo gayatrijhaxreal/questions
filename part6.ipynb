{
 "cells": [
  {
   "cell_type": "markdown",
   "id": "2875e9b3",
   "metadata": {},
   "source": [
    "**Part 6: Statistics, Sorting, & Searching**\n"
   ]
  },
  {
   "cell_type": "code",
   "execution_count": 315,
   "id": "fe01b2ec",
   "metadata": {},
   "outputs": [],
   "source": [
    "import pandas as pd\n",
    "import numpy as np"
   ]
  },
  {
   "cell_type": "markdown",
   "id": "ff05fd16",
   "metadata": {},
   "source": [
    "**81. Create a 1D array of 10 random integers and sort it in ascending order.**"
   ]
  },
  {
   "cell_type": "code",
   "execution_count": 316,
   "id": "9da9f977",
   "metadata": {},
   "outputs": [
    {
     "data": {
      "text/plain": [
       "array([17, 31, 19, 49, 51, 72, 39, 23, 95, 22], dtype=int32)"
      ]
     },
     "execution_count": 316,
     "metadata": {},
     "output_type": "execute_result"
    }
   ],
   "source": [
    "M = np.random.randint(1,100 ,size =10)\n",
    "M"
   ]
  },
  {
   "cell_type": "code",
   "execution_count": 317,
   "id": "1f34a0bc",
   "metadata": {},
   "outputs": [],
   "source": [
    "sorted_M = np.sort(M)"
   ]
  },
  {
   "cell_type": "code",
   "execution_count": 318,
   "id": "0a7c6eaf",
   "metadata": {},
   "outputs": [
    {
     "data": {
      "text/plain": [
       "array([17, 19, 22, 23, 31, 39, 49, 51, 72, 95], dtype=int32)"
      ]
     },
     "execution_count": 318,
     "metadata": {},
     "output_type": "execute_result"
    }
   ],
   "source": [
    "sorted_M"
   ]
  },
  {
   "cell_type": "markdown",
   "id": "348c494c",
   "metadata": {},
   "source": [
    "**83. Find the indices that would sort the array arr = np.array([3, 1, 4, 2]).**"
   ]
  },
  {
   "cell_type": "code",
   "execution_count": 319,
   "id": "294d056f",
   "metadata": {},
   "outputs": [
    {
     "data": {
      "text/plain": [
       "array([3, 1, 4, 2])"
      ]
     },
     "execution_count": 319,
     "metadata": {},
     "output_type": "execute_result"
    }
   ],
   "source": [
    "arr = np.array([3, 1, 4, 2])\n",
    "arr"
   ]
  },
  {
   "cell_type": "code",
   "execution_count": 320,
   "id": "d43ec27f",
   "metadata": {},
   "outputs": [
    {
     "data": {
      "text/plain": [
       "array([1, 3, 0, 2])"
      ]
     },
     "execution_count": 320,
     "metadata": {},
     "output_type": "execute_result"
    }
   ],
   "source": [
    "np.argsort(arr)"
   ]
  },
  {
   "cell_type": "markdown",
   "id": "3d127e34",
   "metadata": {},
   "source": [
    "**84. Find the index of the maximum value in arr.**"
   ]
  },
  {
   "cell_type": "code",
   "execution_count": 321,
   "id": "dccf5805",
   "metadata": {},
   "outputs": [
    {
     "data": {
      "text/plain": [
       "np.int64(2)"
      ]
     },
     "execution_count": 321,
     "metadata": {},
     "output_type": "execute_result"
    }
   ],
   "source": [
    "arr.argmax()"
   ]
  },
  {
   "cell_type": "markdown",
   "id": "f21b8aaf",
   "metadata": {},
   "source": [
    "**85. Find the index of the minimum value in arr.**"
   ]
  },
  {
   "cell_type": "code",
   "execution_count": 322,
   "id": "749ffadd",
   "metadata": {},
   "outputs": [
    {
     "data": {
      "text/plain": [
       "np.int64(1)"
      ]
     },
     "execution_count": 322,
     "metadata": {},
     "output_type": "execute_result"
    }
   ],
   "source": [
    "np.argmin(arr)"
   ]
  },
  {
   "cell_type": "markdown",
   "id": "18e3d1ba",
   "metadata": {},
   "source": [
    "**86. In a 2D array, find the index of the maximum value in each column**"
   ]
  },
  {
   "cell_type": "code",
   "execution_count": 323,
   "id": "c033ee6a",
   "metadata": {},
   "outputs": [
    {
     "data": {
      "text/plain": [
       "np.int64(2)"
      ]
     },
     "execution_count": 323,
     "metadata": {},
     "output_type": "execute_result"
    }
   ],
   "source": [
    "np.argmax(arr , axis = 0)"
   ]
  },
  {
   "cell_type": "markdown",
   "id": "8f442310",
   "metadata": {},
   "source": [
    "**. Find the unique values and their counts in the array arr = np.array([1, 2, 2, 3, 3, 3, 1]).**"
   ]
  },
  {
   "cell_type": "code",
   "execution_count": 324,
   "id": "95486f80",
   "metadata": {},
   "outputs": [],
   "source": [
    "arr = np.array([1, 2, 2, 3, 3, 3, 1])"
   ]
  },
  {
   "cell_type": "code",
   "execution_count": 325,
   "id": "df2b27b8",
   "metadata": {},
   "outputs": [
    {
     "data": {
      "text/plain": [
       "(array([1, 2, 3]), array([2, 2, 3]))"
      ]
     },
     "execution_count": 325,
     "metadata": {},
     "output_type": "execute_result"
    }
   ],
   "source": [
    "np.unique(arr , return_counts=1)"
   ]
  },
  {
   "cell_type": "markdown",
   "id": "0a46203a",
   "metadata": {},
   "source": [
    "**88. Find the common elements between two arrays a = np.array([1,2,3]) and b = np.array([2,3,4])**"
   ]
  },
  {
   "cell_type": "code",
   "execution_count": 326,
   "id": "901438ab",
   "metadata": {},
   "outputs": [],
   "source": [
    "a = np.array([1,2,3])\n",
    "b = np.array([2,3,4])\n"
   ]
  },
  {
   "cell_type": "code",
   "execution_count": 327,
   "id": "a0d8da2e",
   "metadata": {},
   "outputs": [
    {
     "data": {
      "text/plain": [
       "array([2, 3])"
      ]
     },
     "execution_count": 327,
     "metadata": {},
     "output_type": "execute_result"
    }
   ],
   "source": [
    "np.intersect1d(a,b)"
   ]
  },
  {
   "cell_type": "markdown",
   "id": "89dd4bb4",
   "metadata": {},
   "source": [
    "**89. Find the elements in a that are not in b**"
   ]
  },
  {
   "cell_type": "code",
   "execution_count": 328,
   "id": "3630277e",
   "metadata": {},
   "outputs": [
    {
     "data": {
      "text/plain": [
       "array([1])"
      ]
     },
     "execution_count": 328,
     "metadata": {},
     "output_type": "execute_result"
    }
   ],
   "source": [
    "np.setdiff1d(a,b)"
   ]
  },
  {
   "cell_type": "markdown",
   "id": "89d5a50a",
   "metadata": {},
   "source": [
    "**90. Sort a 2D array based on its second column.**"
   ]
  },
  {
   "cell_type": "code",
   "execution_count": 329,
   "id": "c0210fe9",
   "metadata": {},
   "outputs": [],
   "source": [
    "arr = np.array([[5, 2, 8],[3, 1, 6],[9, 4, 7]])"
   ]
  },
  {
   "cell_type": "code",
   "execution_count": 330,
   "id": "42be78f9",
   "metadata": {},
   "outputs": [
    {
     "data": {
      "text/plain": [
       "array([[5, 2, 8],\n",
       "       [3, 1, 6],\n",
       "       [9, 4, 7]])"
      ]
     },
     "execution_count": 330,
     "metadata": {},
     "output_type": "execute_result"
    }
   ],
   "source": [
    "arr"
   ]
  },
  {
   "cell_type": "code",
   "execution_count": 331,
   "id": "f775554c",
   "metadata": {},
   "outputs": [],
   "source": [
    "indices = arr[:, 1].argsort()\n",
    "sorted_arr = arr[indices]"
   ]
  },
  {
   "cell_type": "code",
   "execution_count": 332,
   "id": "b2fb1c86",
   "metadata": {},
   "outputs": [
    {
     "data": {
      "text/plain": [
       "array([[5, 2, 8],\n",
       "       [3, 1, 6],\n",
       "       [9, 4, 7]])"
      ]
     },
     "execution_count": 332,
     "metadata": {},
     "output_type": "execute_result"
    }
   ],
   "source": [
    "arr"
   ]
  },
  {
   "cell_type": "code",
   "execution_count": 333,
   "id": "8e0c5524",
   "metadata": {},
   "outputs": [
    {
     "data": {
      "text/plain": [
       "array([[3, 1, 6],\n",
       "       [5, 2, 8],\n",
       "       [9, 4, 7]])"
      ]
     },
     "execution_count": 333,
     "metadata": {},
     "output_type": "execute_result"
    }
   ],
   "source": [
    "sorted_arr"
   ]
  },
  {
   "cell_type": "markdown",
   "id": "e8eae162",
   "metadata": {},
   "source": [
    "91. Find the 50th percentile (median) of a random array"
   ]
  },
  {
   "cell_type": "code",
   "execution_count": 334,
   "id": "d0606588",
   "metadata": {},
   "outputs": [
    {
     "data": {
      "text/plain": [
       "array([17, 17, 37, 25, 28, 81, 16, 66, 13, 96, 47, 60, 52,  1, 53],\n",
       "      dtype=int32)"
      ]
     },
     "execution_count": 334,
     "metadata": {},
     "output_type": "execute_result"
    }
   ],
   "source": [
    "arr = np.random.randint(1, 100, size=15)\n",
    "arr"
   ]
  },
  {
   "cell_type": "code",
   "execution_count": 335,
   "id": "033b8b4d",
   "metadata": {},
   "outputs": [],
   "source": [
    "p50 = np.percentile(arr, 50)\n",
    "median = np.median(arr)"
   ]
  },
  {
   "cell_type": "code",
   "execution_count": 336,
   "id": "c75a8504",
   "metadata": {},
   "outputs": [
    {
     "data": {
      "text/plain": [
       "np.float64(37.0)"
      ]
     },
     "execution_count": 336,
     "metadata": {},
     "output_type": "execute_result"
    }
   ],
   "source": [
    "p50"
   ]
  },
  {
   "cell_type": "code",
   "execution_count": 337,
   "id": "f10ed913",
   "metadata": {},
   "outputs": [
    {
     "data": {
      "text/plain": [
       "np.float64(37.0)"
      ]
     },
     "execution_count": 337,
     "metadata": {},
     "output_type": "execute_result"
    }
   ],
   "source": [
    "median"
   ]
  },
  {
   "cell_type": "markdown",
   "id": "4fde8228",
   "metadata": {},
   "source": [
    "**92. Find the 25th and 75th percentiles of an array.\n",
    "○ Hint: Pass a list of percentiles: np.percent**"
   ]
  },
  {
   "cell_type": "code",
   "execution_count": 338,
   "id": "d9e40cfb",
   "metadata": {},
   "outputs": [
    {
     "data": {
      "text/plain": [
       "array([17, 17, 37, 25, 28, 81, 16, 66, 13, 96, 47, 60, 52,  1, 53],\n",
       "      dtype=int32)"
      ]
     },
     "execution_count": 338,
     "metadata": {},
     "output_type": "execute_result"
    }
   ],
   "source": [
    "arr"
   ]
  },
  {
   "cell_type": "code",
   "execution_count": 339,
   "id": "b30086e1",
   "metadata": {},
   "outputs": [],
   "source": [
    "p25 = np.percentile(arr, 25)\n",
    "p75 =np.percentile(arr, 75)\n",
    "median1 = np.median(arr)"
   ]
  },
  {
   "cell_type": "code",
   "execution_count": 340,
   "id": "289e9cf1",
   "metadata": {},
   "outputs": [
    {
     "data": {
      "text/plain": [
       "array([17. , 56.5])"
      ]
     },
     "execution_count": 340,
     "metadata": {},
     "output_type": "execute_result"
    }
   ],
   "source": [
    "np.percentile(arr, [25, 75])\n"
   ]
  },
  {
   "cell_type": "code",
   "execution_count": 341,
   "id": "79e0d024",
   "metadata": {},
   "outputs": [
    {
     "data": {
      "text/plain": [
       "np.float64(37.0)"
      ]
     },
     "execution_count": 341,
     "metadata": {},
     "output_type": "execute_result"
    }
   ],
   "source": [
    "median1"
   ]
  },
  {
   "cell_type": "markdown",
   "id": "e86b297d",
   "metadata": {},
   "source": [
    "**93. Find all non-zero elements in the array [1, 0, 2, 0, 3].\n",
    "○ Hint: Use np.nonzero().**"
   ]
  },
  {
   "cell_type": "code",
   "execution_count": 342,
   "id": "1bb35bfd",
   "metadata": {},
   "outputs": [
    {
     "data": {
      "text/plain": [
       "array([1, 0, 2, 0, 3])"
      ]
     },
     "execution_count": 342,
     "metadata": {},
     "output_type": "execute_result"
    }
   ],
   "source": [
    "arr =np.array([1, 0, 2, 0, 3])\n",
    "arr"
   ]
  },
  {
   "cell_type": "code",
   "execution_count": 343,
   "id": "ace93fbb",
   "metadata": {},
   "outputs": [
    {
     "data": {
      "text/plain": [
       "(array([0, 2, 4]),)"
      ]
     },
     "execution_count": 343,
     "metadata": {},
     "output_type": "execute_result"
    }
   ],
   "source": [
    "np.nonzero(arr)"
   ]
  },
  {
   "cell_type": "markdown",
   "id": "c4465edc",
   "metadata": {},
   "source": [
    "**94. Check which elements of array a are present in array b.\n",
    "○ Hint: Use np.in1d().**"
   ]
  },
  {
   "cell_type": "code",
   "execution_count": 344,
   "id": "6a2c90a9",
   "metadata": {},
   "outputs": [
    {
     "data": {
      "text/plain": [
       "array([2, 4])"
      ]
     },
     "execution_count": 344,
     "metadata": {},
     "output_type": "execute_result"
    }
   ],
   "source": [
    "\n",
    "\n",
    "a = np.array([1, 2, 3, 4, 5])\n",
    "b = np.array([2, 4, 6, 8])\n",
    "\n",
    "mask = np.isin(a, b)\n",
    "\n",
    "mask          \n",
    "a[mask]\n"
   ]
  },
  {
   "cell_type": "markdown",
   "id": "9f2f4a77",
   "metadata": {},
   "source": [
    "**5. Find the top 3 largest values from a 1D array.\n",
    "○ Hint: Sort the array and take the last 3 elements.**"
   ]
  },
  {
   "cell_type": "code",
   "execution_count": 345,
   "id": "7bb704bc",
   "metadata": {},
   "outputs": [
    {
     "data": {
      "text/plain": [
       "array([12, 45,  7, 89, 34, 23, 90, 56])"
      ]
     },
     "execution_count": 345,
     "metadata": {},
     "output_type": "execute_result"
    }
   ],
   "source": [
    "\n",
    "arr = np.array([12, 45, 7, 89, 34, 23, 90, 56])\n",
    "\n",
    "sorted_arr = np.sort(arr)\n",
    "\n",
    "top3 = sorted_arr[-3:]\n",
    "\n",
    "arr\n",
    "\n"
   ]
  },
  {
   "cell_type": "code",
   "execution_count": 346,
   "id": "19d5c2a2",
   "metadata": {},
   "outputs": [
    {
     "data": {
      "text/plain": [
       "array([56, 89, 90])"
      ]
     },
     "execution_count": 346,
     "metadata": {},
     "output_type": "execute_result"
    }
   ],
   "source": [
    "top3"
   ]
  }
 ],
 "metadata": {
  "kernelspec": {
   "display_name": "Python 3",
   "language": "python",
   "name": "python3"
  },
  "language_info": {
   "codemirror_mode": {
    "name": "ipython",
    "version": 3
   },
   "file_extension": ".py",
   "mimetype": "text/x-python",
   "name": "python",
   "nbconvert_exporter": "python",
   "pygments_lexer": "ipython3",
   "version": "3.13.7"
  }
 },
 "nbformat": 4,
 "nbformat_minor": 5
}
