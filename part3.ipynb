{
 "cells": [
  {
   "cell_type": "markdown",
   "id": "6e03b0dd",
   "metadata": {},
   "source": [
    "**Part 3: Mathematical & Universal Functions (UFuncs)**"
   ]
  },
  {
   "cell_type": "code",
   "execution_count": 131,
   "id": "d9f586a0",
   "metadata": {},
   "outputs": [],
   "source": [
    "import numpy as np\n",
    "import pandas as pd\n"
   ]
  },
  {
   "cell_type": "markdown",
   "id": "9274a7f4",
   "metadata": {},
   "source": [
    "**(For questions 36-55, use the following arrays):**"
   ]
  },
  {
   "cell_type": "code",
   "execution_count": 132,
   "id": "7b01047e",
   "metadata": {},
   "outputs": [],
   "source": [
    "a = np.array([1, 2, 3, 4])\n",
    "b = np.array([5, 6, 7, 8])\n"
   ]
  },
  {
   "cell_type": "markdown",
   "id": "029e0bb5",
   "metadata": {},
   "source": [
    "**36. Add array a and b element-wise**"
   ]
  },
  {
   "cell_type": "code",
   "execution_count": 133,
   "id": "c1f57ad0",
   "metadata": {},
   "outputs": [
    {
     "data": {
      "text/plain": [
       "array([ 6,  8, 10, 12])"
      ]
     },
     "execution_count": 133,
     "metadata": {},
     "output_type": "execute_result"
    }
   ],
   "source": [
    "a+b"
   ]
  },
  {
   "cell_type": "markdown",
   "id": "9d824f7e",
   "metadata": {},
   "source": [
    "**37. Multiply array a by 3 (scalar multiplication).**"
   ]
  },
  {
   "cell_type": "code",
   "execution_count": 134,
   "id": "725b9527",
   "metadata": {},
   "outputs": [
    {
     "data": {
      "text/plain": [
       "array([ 3,  6,  9, 12])"
      ]
     },
     "execution_count": 134,
     "metadata": {},
     "output_type": "execute_result"
    }
   ],
   "source": [
    "a*3"
   ]
  },
  {
   "cell_type": "markdown",
   "id": "d4230d9f",
   "metadata": {},
   "source": [
    "**38. Calculate the square of every element in array a.**"
   ]
  },
  {
   "cell_type": "code",
   "execution_count": 135,
   "id": "1e46ab2d",
   "metadata": {},
   "outputs": [
    {
     "data": {
      "text/plain": [
       "array([ 1,  4,  9, 16])"
      ]
     },
     "execution_count": 135,
     "metadata": {},
     "output_type": "execute_result"
    }
   ],
   "source": [
    "a**2"
   ]
  },
  {
   "cell_type": "markdown",
   "id": "93fd3c5f",
   "metadata": {},
   "source": [
    "**Calculate the square root of every element in b.**"
   ]
  },
  {
   "cell_type": "code",
   "execution_count": 136,
   "id": "7c85c5f3",
   "metadata": {},
   "outputs": [
    {
     "data": {
      "text/plain": [
       "array([2.23606798, 2.44948974, 2.64575131, 2.82842712])"
      ]
     },
     "execution_count": 136,
     "metadata": {},
     "output_type": "execute_result"
    }
   ],
   "source": [
    "np.sqrt(b)"
   ]
  },
  {
   "cell_type": "markdown",
   "id": "18d7d928",
   "metadata": {},
   "source": [
    "**. Calculate the exponential (e^x) of every element in a.**"
   ]
  },
  {
   "cell_type": "code",
   "execution_count": 137,
   "id": "15db0a60",
   "metadata": {},
   "outputs": [
    {
     "data": {
      "text/plain": [
       "array([ 2.71828183,  7.3890561 , 20.08553692, 54.59815003])"
      ]
     },
     "execution_count": 137,
     "metadata": {},
     "output_type": "execute_result"
    }
   ],
   "source": [
    "np.exp(a)"
   ]
  },
  {
   "cell_type": "markdown",
   "id": "a3537644",
   "metadata": {},
   "source": [
    "**. Find the sum of all elements in a.**"
   ]
  },
  {
   "cell_type": "code",
   "execution_count": 138,
   "id": "b55cbf41",
   "metadata": {},
   "outputs": [
    {
     "data": {
      "text/plain": [
       "np.int64(10)"
      ]
     },
     "execution_count": 138,
     "metadata": {},
     "output_type": "execute_result"
    }
   ],
   "source": [
    "sum(a)"
   ]
  },
  {
   "cell_type": "markdown",
   "id": "26e772b4",
   "metadata": {},
   "source": [
    "**42. Find the mean of all elements in b.**"
   ]
  },
  {
   "cell_type": "code",
   "execution_count": 139,
   "id": "2c412d7f",
   "metadata": {},
   "outputs": [
    {
     "data": {
      "text/plain": [
       "np.float64(6.5)"
      ]
     },
     "execution_count": 139,
     "metadata": {},
     "output_type": "execute_result"
    }
   ],
   "source": [
    "b.mean()"
   ]
  },
  {
   "cell_type": "markdown",
   "id": "24ecd9bf",
   "metadata": {},
   "source": [
    "**43. Find the maximum value in a.**"
   ]
  },
  {
   "cell_type": "code",
   "execution_count": 140,
   "id": "4169a681",
   "metadata": {},
   "outputs": [
    {
     "data": {
      "text/plain": [
       "np.int64(4)"
      ]
     },
     "execution_count": 140,
     "metadata": {},
     "output_type": "execute_result"
    }
   ],
   "source": [
    "a.max()"
   ]
  },
  {
   "cell_type": "markdown",
   "id": "cbfb251b",
   "metadata": {},
   "source": [
    "**44. Find the minimum value in b.**"
   ]
  },
  {
   "cell_type": "code",
   "execution_count": 141,
   "id": "22e93a8a",
   "metadata": {},
   "outputs": [
    {
     "data": {
      "text/plain": [
       "np.int64(5)"
      ]
     },
     "execution_count": 141,
     "metadata": {},
     "output_type": "execute_result"
    }
   ],
   "source": [
    "b.min()"
   ]
  },
  {
   "cell_type": "markdown",
   "id": "4f07f607",
   "metadata": {},
   "source": [
    "**45. Given a 2D array matrix = np.arange(12).reshape(3, 4), find the sum of all its elements**"
   ]
  },
  {
   "cell_type": "code",
   "execution_count": 142,
   "id": "3fe48a82",
   "metadata": {},
   "outputs": [
    {
     "data": {
      "text/plain": [
       "array([[ 0,  1,  2,  3],\n",
       "       [ 4,  5,  6,  7],\n",
       "       [ 8,  9, 10, 11]])"
      ]
     },
     "execution_count": 142,
     "metadata": {},
     "output_type": "execute_result"
    }
   ],
   "source": [
    "d_arr =np.arange(12) .reshape(3,4)\n",
    "d_arr"
   ]
  },
  {
   "cell_type": "code",
   "execution_count": 143,
   "id": "722b9130",
   "metadata": {},
   "outputs": [
    {
     "data": {
      "text/plain": [
       "np.int64(66)"
      ]
     },
     "execution_count": 143,
     "metadata": {},
     "output_type": "execute_result"
    }
   ],
   "source": [
    "d_arr.sum()"
   ]
  },
  {
   "cell_type": "markdown",
   "id": "f4d401fd",
   "metadata": {},
   "source": [
    "**46. For the matrix, find the sum of each column**"
   ]
  },
  {
   "cell_type": "code",
   "execution_count": 144,
   "id": "68088a58",
   "metadata": {},
   "outputs": [
    {
     "data": {
      "text/plain": [
       "array([12, 15, 18, 21])"
      ]
     },
     "execution_count": 144,
     "metadata": {},
     "output_type": "execute_result"
    }
   ],
   "source": [
    "d_arr.sum(axis=0)"
   ]
  },
  {
   "cell_type": "markdown",
   "id": "a2524b7d",
   "metadata": {},
   "source": [
    "**47. For the matrix, find the mean of each row**"
   ]
  },
  {
   "cell_type": "code",
   "execution_count": 145,
   "id": "5c51876e",
   "metadata": {},
   "outputs": [
    {
     "data": {
      "text/plain": [
       "array([ 6, 22, 38])"
      ]
     },
     "execution_count": 145,
     "metadata": {},
     "output_type": "execute_result"
    }
   ],
   "source": [
    "d_arr.sum(axis=1)"
   ]
  },
  {
   "cell_type": "markdown",
   "id": "fba8e306",
   "metadata": {},
   "source": [
    "**48. For the matrix, find the minimum value in each row.**"
   ]
  },
  {
   "cell_type": "code",
   "execution_count": 146,
   "id": "8b287eb5",
   "metadata": {},
   "outputs": [
    {
     "data": {
      "text/plain": [
       "array([0, 4, 8])"
      ]
     },
     "execution_count": 146,
     "metadata": {},
     "output_type": "execute_result"
    }
   ],
   "source": [
    "d_arr.min(axis=1)"
   ]
  },
  {
   "cell_type": "markdown",
   "id": "8f3603ba",
   "metadata": {},
   "source": [
    "**49. Create a new array by finding which element is larger at each position between a and b.**"
   ]
  },
  {
   "cell_type": "code",
   "execution_count": 147,
   "id": "8ea72035",
   "metadata": {},
   "outputs": [
    {
     "data": {
      "text/plain": [
       "array([5, 6, 7, 8])"
      ]
     },
     "execution_count": 147,
     "metadata": {},
     "output_type": "execute_result"
    }
   ],
   "source": [
    "np.maximum(a,b)"
   ]
  },
  {
   "cell_type": "markdown",
   "id": "86240d19",
   "metadata": {},
   "source": [
    "**50. Round all values in the array arr_float = np.array([1.5, 2.3, 3.8]) to the nearest integer**"
   ]
  },
  {
   "cell_type": "code",
   "execution_count": 148,
   "id": "f17ba10c",
   "metadata": {},
   "outputs": [
    {
     "data": {
      "text/plain": [
       "array([1.5, 2.3, 3.8])"
      ]
     },
     "execution_count": 148,
     "metadata": {},
     "output_type": "execute_result"
    }
   ],
   "source": [
    "arr_float = np.array([1.5, 2.3, 3.8]) \n",
    "arr_float"
   ]
  },
  {
   "cell_type": "code",
   "execution_count": 149,
   "id": "4e0fee90",
   "metadata": {},
   "outputs": [
    {
     "data": {
      "text/plain": [
       "array([2., 2., 4.])"
      ]
     },
     "execution_count": 149,
     "metadata": {},
     "output_type": "execute_result"
    }
   ],
   "source": [
    "np.round(arr_float)"
   ]
  },
  {
   "cell_type": "markdown",
   "id": "0b3f7431",
   "metadata": {},
   "source": [
    "**51. Calculate the standard deviation of array a.**"
   ]
  },
  {
   "cell_type": "code",
   "execution_count": 150,
   "id": "b2ef18c6",
   "metadata": {},
   "outputs": [
    {
     "data": {
      "text/plain": [
       "np.float64(1.118033988749895)"
      ]
     },
     "execution_count": 150,
     "metadata": {},
     "output_type": "execute_result"
    }
   ],
   "source": [
    "np.std(a)"
   ]
  },
  {
   "cell_type": "markdown",
   "id": "e2b2a4ae",
   "metadata": {},
   "source": [
    "**52. Calculate the cumulative sum of a. The result should be [1, 3, 6, 10].**"
   ]
  },
  {
   "cell_type": "code",
   "execution_count": 151,
   "id": "3f4d37bc",
   "metadata": {},
   "outputs": [
    {
     "data": {
      "text/plain": [
       "array([ 1,  3,  6, 10])"
      ]
     },
     "execution_count": 151,
     "metadata": {},
     "output_type": "execute_result"
    }
   ],
   "source": [
    "np.cumsum(a)"
   ]
  },
  {
   "cell_type": "markdown",
   "id": "3175bfa0",
   "metadata": {},
   "source": [
    "**53. Compare arrays a and b to see if they are equal element-wise.**"
   ]
  },
  {
   "cell_type": "code",
   "execution_count": 152,
   "id": "54474010",
   "metadata": {},
   "outputs": [
    {
     "data": {
      "text/plain": [
       "array([False, False, False, False])"
      ]
     },
     "execution_count": 152,
     "metadata": {},
     "output_type": "execute_result"
    }
   ],
   "source": [
    "ar = a==b\n",
    "ar"
   ]
  },
  {
   "cell_type": "markdown",
   "id": "6a13acb9",
   "metadata": {},
   "source": [
    "**54. Check if any element in the result of a > 2 is True.**"
   ]
  },
  {
   "cell_type": "code",
   "execution_count": 153,
   "id": "1ebe2ec8",
   "metadata": {},
   "outputs": [
    {
     "data": {
      "text/plain": [
       "np.True_"
      ]
     },
     "execution_count": 153,
     "metadata": {},
     "output_type": "execute_result"
    }
   ],
   "source": [
    "(a>2).any()"
   ]
  },
  {
   "cell_type": "markdown",
   "id": "7e0ded0e",
   "metadata": {},
   "source": [
    "**55. Check if all elements in b are greater than 4.**"
   ]
  },
  {
   "cell_type": "code",
   "execution_count": 154,
   "id": "dd522b08",
   "metadata": {},
   "outputs": [
    {
     "data": {
      "text/plain": [
       "np.True_"
      ]
     },
     "execution_count": 154,
     "metadata": {},
     "output_type": "execute_result"
    }
   ],
   "source": [
    "(b>4).all()"
   ]
  }
 ],
 "metadata": {
  "kernelspec": {
   "display_name": "Python 3",
   "language": "python",
   "name": "python3"
  },
  "language_info": {
   "codemirror_mode": {
    "name": "ipython",
    "version": 3
   },
   "file_extension": ".py",
   "mimetype": "text/x-python",
   "name": "python",
   "nbconvert_exporter": "python",
   "pygments_lexer": "ipython3",
   "version": "3.13.7"
  }
 },
 "nbformat": 4,
 "nbformat_minor": 5
}
