{
 "cells": [
  {
   "cell_type": "markdown",
   "id": "dc694a75",
   "metadata": {},
   "source": [
    "**Part 4: Key Manipulation Techniques**"
   ]
  },
  {
   "cell_type": "code",
   "execution_count": 146,
   "id": "e711a6be",
   "metadata": {},
   "outputs": [],
   "source": [
    "import numpy as np\n",
    "import pandas as pd\n"
   ]
  },
  {
   "cell_type": "markdown",
   "id": "6280986b",
   "metadata": {},
   "source": [
    "**56. Reshape the 1D array arr = np.arange(20) into a 4x5 matrix.**"
   ]
  },
  {
   "cell_type": "code",
   "execution_count": 147,
   "id": "a665df21",
   "metadata": {},
   "outputs": [
    {
     "data": {
      "text/plain": [
       "array([ 0,  1,  2,  3,  4,  5,  6,  7,  8,  9, 10, 11, 12, 13, 14, 15, 16,\n",
       "       17, 18, 19])"
      ]
     },
     "execution_count": 147,
     "metadata": {},
     "output_type": "execute_result"
    }
   ],
   "source": [
    "arr = np.arange(20)\n",
    "arr"
   ]
  },
  {
   "cell_type": "code",
   "execution_count": 148,
   "id": "8facf666",
   "metadata": {},
   "outputs": [],
   "source": [
    "arr2 = arr.reshape(4,5)"
   ]
  },
  {
   "cell_type": "markdown",
   "id": "4b57cbd0",
   "metadata": {},
   "source": [
    "**57. \"Flatten\" the 2D array matrix = np.array([[1,2],[3,4]]) into a 1D array.**"
   ]
  },
  {
   "cell_type": "code",
   "execution_count": 149,
   "id": "12c6f65a",
   "metadata": {},
   "outputs": [
    {
     "data": {
      "text/plain": [
       "array([ 0,  1,  2,  3,  4,  5,  6,  7,  8,  9, 10, 11, 12, 13, 14, 15, 16,\n",
       "       17, 18, 19])"
      ]
     },
     "execution_count": 149,
     "metadata": {},
     "output_type": "execute_result"
    }
   ],
   "source": [
    "arr2.ravel()"
   ]
  },
  {
   "cell_type": "markdown",
   "id": "1f3d5be1",
   "metadata": {},
   "source": [
    "**59. Transpose a 3x5 matrix into a 5x3 matrix.**"
   ]
  },
  {
   "cell_type": "code",
   "execution_count": 150,
   "id": "a7d9ec07",
   "metadata": {},
   "outputs": [
    {
     "data": {
      "text/plain": [
       "array([[ 0,  5, 10, 15],\n",
       "       [ 1,  6, 11, 16],\n",
       "       [ 2,  7, 12, 17],\n",
       "       [ 3,  8, 13, 18],\n",
       "       [ 4,  9, 14, 19]])"
      ]
     },
     "execution_count": 150,
     "metadata": {},
     "output_type": "execute_result"
    }
   ],
   "source": [
    "arr2.T"
   ]
  },
  {
   "cell_type": "markdown",
   "id": "950298ae",
   "metadata": {},
   "source": [
    "**60. Vertically stack the arrays a = np.ones((2,3)) and b = np.zeros((2,3))**\n"
   ]
  },
  {
   "cell_type": "code",
   "execution_count": 151,
   "id": "0bba6d68",
   "metadata": {},
   "outputs": [],
   "source": [
    "a = np.ones((2,3))\n",
    "b = np.zeros((2,3))"
   ]
  },
  {
   "cell_type": "code",
   "execution_count": 152,
   "id": "fb544cb1",
   "metadata": {},
   "outputs": [
    {
     "data": {
      "text/plain": [
       "array([[1., 1., 1.],\n",
       "       [1., 1., 1.],\n",
       "       [0., 0., 0.],\n",
       "       [0., 0., 0.]])"
      ]
     },
     "execution_count": 152,
     "metadata": {},
     "output_type": "execute_result"
    }
   ],
   "source": [
    "np.vstack((a,b))"
   ]
  },
  {
   "cell_type": "markdown",
   "id": "f4ee422b",
   "metadata": {},
   "source": [
    "**Horizontally stack the arrays a and b.**"
   ]
  },
  {
   "cell_type": "code",
   "execution_count": 153,
   "id": "c05a33d1",
   "metadata": {},
   "outputs": [
    {
     "data": {
      "text/plain": [
       "array([[1., 1., 1., 0., 0., 0.],\n",
       "       [1., 1., 1., 0., 0., 0.]])"
      ]
     },
     "execution_count": 153,
     "metadata": {},
     "output_type": "execute_result"
    }
   ],
   "source": [
    "np.hstack((a,b))"
   ]
  },
  {
   "cell_type": "markdown",
   "id": "27bdbe5c",
   "metadata": {},
   "source": [
    "**62. Use np.concatenate to achieve the same result as vstack with a and b**"
   ]
  },
  {
   "cell_type": "code",
   "execution_count": 154,
   "id": "b86befe6",
   "metadata": {},
   "outputs": [
    {
     "data": {
      "text/plain": [
       "array([[1., 1., 1.],\n",
       "       [1., 1., 1.],\n",
       "       [0., 0., 0.],\n",
       "       [0., 0., 0.]])"
      ]
     },
     "execution_count": 154,
     "metadata": {},
     "output_type": "execute_result"
    }
   ],
   "source": [
    "np.concatenate((a,b),axis = 0)"
   ]
  },
  {
   "cell_type": "markdown",
   "id": "99a0ee23",
   "metadata": {},
   "source": [
    "**63. Split the array arr = np.arange(10) into 5 equal sub-arrays.\n",
    "○ Hint: Use np.split().**"
   ]
  },
  {
   "cell_type": "code",
   "execution_count": 155,
   "id": "cfecee08",
   "metadata": {},
   "outputs": [
    {
     "data": {
      "text/plain": [
       "array([0, 1, 2, 3, 4, 5, 6, 7, 8, 9])"
      ]
     },
     "execution_count": 155,
     "metadata": {},
     "output_type": "execute_result"
    }
   ],
   "source": [
    "arr = np.arange(10)\n",
    "arr"
   ]
  },
  {
   "cell_type": "code",
   "execution_count": 156,
   "id": "c43783e4",
   "metadata": {},
   "outputs": [
    {
     "data": {
      "text/plain": [
       "[array([0, 1]), array([2, 3]), array([4, 5]), array([6, 7]), array([8, 9])]"
      ]
     },
     "execution_count": 156,
     "metadata": {},
     "output_type": "execute_result"
    }
   ],
   "source": [
    "\n",
    "np.split(arr, 5)"
   ]
  },
  {
   "cell_type": "markdown",
   "id": "fecf019c",
   "metadata": {},
   "source": [
    "**64. Split the 2D array matrix = np.arange(16).reshape(4,4) horizontally into 2 equal arrays.**"
   ]
  },
  {
   "cell_type": "code",
   "execution_count": 157,
   "id": "1d5fd8b5",
   "metadata": {},
   "outputs": [
    {
     "data": {
      "text/plain": [
       "array([[ 0,  1,  2,  3],\n",
       "       [ 4,  5,  6,  7],\n",
       "       [ 8,  9, 10, 11],\n",
       "       [12, 13, 14, 15]])"
      ]
     },
     "execution_count": 157,
     "metadata": {},
     "output_type": "execute_result"
    }
   ],
   "source": [
    "matrix = np.arange(16).reshape(4,4)\n",
    "matrix"
   ]
  },
  {
   "cell_type": "code",
   "execution_count": null,
   "id": "c93ef7da",
   "metadata": {},
   "outputs": [],
   "source": []
  },
  {
   "cell_type": "markdown",
   "id": "f8e98b61",
   "metadata": {},
   "source": [
    "**65. Insert the value 99 at index 2 in the 1D array arr = np.array([1,2,3,4]).**"
   ]
  },
  {
   "cell_type": "code",
   "execution_count": null,
   "id": "09be82ac",
   "metadata": {},
   "outputs": [],
   "source": [
    "arr = np.array([1,2,3,4])"
   ]
  },
  {
   "cell_type": "code",
   "execution_count": null,
   "id": "14ea983f",
   "metadata": {},
   "outputs": [
    {
     "data": {
      "text/plain": [
       "array([ 1,  2, 99,  3,  4])"
      ]
     },
     "execution_count": 110,
     "metadata": {},
     "output_type": "execute_result"
    }
   ],
   "source": [
    "np.insert(arr,2,99)"
   ]
  },
  {
   "cell_type": "markdown",
   "id": "d8ad3c94",
   "metadata": {},
   "source": [
    "**Add the value 5 to the end of array arr**"
   ]
  },
  {
   "cell_type": "code",
   "execution_count": null,
   "id": "6cdae4fc",
   "metadata": {},
   "outputs": [
    {
     "data": {
      "text/plain": [
       "array([1, 2, 3, 4, 5])"
      ]
     },
     "execution_count": 112,
     "metadata": {},
     "output_type": "execute_result"
    }
   ],
   "source": [
    "np.append(arr,5)"
   ]
  },
  {
   "cell_type": "markdown",
   "id": "2f4cb2c8",
   "metadata": {},
   "source": [
    "**67. Get the unique values from the array arr = np.array([1,1,2,3,3,3,4,5]).**"
   ]
  },
  {
   "cell_type": "code",
   "execution_count": null,
   "id": "b7945cec",
   "metadata": {},
   "outputs": [
    {
     "data": {
      "text/plain": [
       "array([1, 1, 2, 3, 3, 3, 4, 5])"
      ]
     },
     "execution_count": 113,
     "metadata": {},
     "output_type": "execute_result"
    }
   ],
   "source": [
    "arr = np.array([1,1,2,3,3,3,4,5])\n",
    "arr"
   ]
  },
  {
   "cell_type": "code",
   "execution_count": null,
   "id": "faaec9e4",
   "metadata": {},
   "outputs": [
    {
     "data": {
      "text/plain": [
       "array([1, 2, 3, 4, 5])"
      ]
     },
     "execution_count": 114,
     "metadata": {},
     "output_type": "execute_result"
    }
   ],
   "source": [
    "np.unique(arr)"
   ]
  },
  {
   "cell_type": "markdown",
   "id": "f066bb0b",
   "metadata": {},
   "source": [
    "**68. Repeat the array [1,2,3] three times to get [1,2,3,1,2,3,1,2,3]**"
   ]
  },
  {
   "cell_type": "code",
   "execution_count": null,
   "id": "7e874ea4",
   "metadata": {},
   "outputs": [
    {
     "data": {
      "text/plain": [
       "array([1, 2, 3])"
      ]
     },
     "execution_count": 116,
     "metadata": {},
     "output_type": "execute_result"
    }
   ],
   "source": [
    "arr= np.array([1,2,3])\n",
    "arr"
   ]
  },
  {
   "cell_type": "code",
   "execution_count": null,
   "id": "f0cd4746",
   "metadata": {},
   "outputs": [],
   "source": [
    "arr = np.tile(arr,3)"
   ]
  },
  {
   "cell_type": "markdown",
   "id": "765d4234",
   "metadata": {},
   "source": [
    "**70. Flip an array horizontally (left to right).**"
   ]
  },
  {
   "cell_type": "code",
   "execution_count": null,
   "id": "1c597f59",
   "metadata": {},
   "outputs": [],
   "source": [
    "arr = np.array([[1,2,3,4] ,[5,6,7,8]])"
   ]
  },
  {
   "cell_type": "code",
   "execution_count": null,
   "id": "1d518b00",
   "metadata": {},
   "outputs": [
    {
     "data": {
      "text/plain": [
       "array([[4, 3, 2, 1],\n",
       "       [8, 7, 6, 5]])"
      ]
     },
     "execution_count": 144,
     "metadata": {},
     "output_type": "execute_result"
    }
   ],
   "source": [
    "np.fliplr(arr)"
   ]
  },
  {
   "cell_type": "code",
   "execution_count": null,
   "id": "6e78cb3c",
   "metadata": {},
   "outputs": [],
   "source": []
  }
 ],
 "metadata": {
  "kernelspec": {
   "display_name": "Python 3",
   "language": "python",
   "name": "python3"
  },
  "language_info": {
   "codemirror_mode": {
    "name": "ipython",
    "version": 3
   },
   "file_extension": ".py",
   "mimetype": "text/x-python",
   "name": "python",
   "nbconvert_exporter": "python",
   "pygments_lexer": "ipython3",
   "version": "3.13.7"
  }
 },
 "nbformat": 4,
 "nbformat_minor": 5
}
