{
 "cells": [
  {
   "cell_type": "markdown",
   "id": "65e6ab8f",
   "metadata": {},
   "source": [
    "**1. Import the NumPy library with the alias np.**\n",
    "**"
   ]
  },
  {
   "cell_type": "code",
   "execution_count": 52,
   "id": "3d2fe8a1",
   "metadata": {},
   "outputs": [],
   "source": [
    "import numpy as np"
   ]
  },
  {
   "cell_type": "markdown",
   "id": "4646ce10",
   "metadata": {},
   "source": [
    "**Create a 1D NumPy array from the Python list [1, 2, 3, 4, 5]**"
   ]
  },
  {
   "cell_type": "code",
   "execution_count": 53,
   "id": "ce16b6da",
   "metadata": {},
   "outputs": [
    {
     "data": {
      "text/plain": [
       "array([1, 2, 3, 4, 5])"
      ]
     },
     "execution_count": 53,
     "metadata": {},
     "output_type": "execute_result"
    }
   ],
   "source": [
    "list = np.array([1,2,3,4,5])\n",
    "list"
   ]
  },
  {
   "cell_type": "markdown",
   "id": "e64b0efe",
   "metadata": {},
   "source": [
    "**Create a 1D array of 10 zeros**"
   ]
  },
  {
   "cell_type": "code",
   "execution_count": 54,
   "id": "0f721b15",
   "metadata": {},
   "outputs": [
    {
     "data": {
      "text/plain": [
       "array([0., 0., 0., 0., 0., 0., 0., 0., 0., 0.])"
      ]
     },
     "execution_count": 54,
     "metadata": {},
     "output_type": "execute_result"
    }
   ],
   "source": [
    "zeros = np.zeros(10)\n",
    "zeros"
   ]
  },
  {
   "cell_type": "markdown",
   "id": "01b39151",
   "metadata": {},
   "source": [
    "**Create a 3x3 array filled with ones**"
   ]
  },
  {
   "cell_type": "code",
   "execution_count": 55,
   "id": "f0d3187f",
   "metadata": {},
   "outputs": [
    {
     "data": {
      "text/plain": [
       "array([[1., 1., 1.],\n",
       "       [1., 1., 1.],\n",
       "       [1., 1., 1.]])"
      ]
     },
     "execution_count": 55,
     "metadata": {},
     "output_type": "execute_result"
    }
   ],
   "source": [
    "ones = np.ones(9).reshape(3,3)\n",
    "ones"
   ]
  },
  {
   "cell_type": "markdown",
   "id": "27e83fc4",
   "metadata": {},
   "source": [
    "**Create an array of all even integers from 10 to 50.**"
   ]
  },
  {
   "cell_type": "code",
   "execution_count": 56,
   "id": "0a04eaef",
   "metadata": {},
   "outputs": [
    {
     "data": {
      "text/plain": [
       "array([10, 12, 14, 16, 18, 20, 22, 24, 26, 28, 30, 32, 34, 36, 38, 40, 42,\n",
       "       44, 46, 48, 50])"
      ]
     },
     "execution_count": 56,
     "metadata": {},
     "output_type": "execute_result"
    }
   ],
   "source": [
    "arr = np.arange(10,51)\n",
    "arr\n",
    "even = arr[::2]\n",
    "even"
   ]
  },
  {
   "cell_type": "markdown",
   "id": "8b01e21a",
   "metadata": {},
   "source": [
    "**Create a 3x3 matrix with values ranging from 0 to 8.**"
   ]
  },
  {
   "cell_type": "code",
   "execution_count": 57,
   "id": "62ad349f",
   "metadata": {},
   "outputs": [
    {
     "data": {
      "text/plain": [
       "array([[0, 1, 2],\n",
       "       [3, 4, 5],\n",
       "       [6, 7, 8]])"
      ]
     },
     "execution_count": 57,
     "metadata": {},
     "output_type": "execute_result"
    }
   ],
   "source": [
    "arr = np.arange(0,9) .reshape(3,3)\n",
    "arr"
   ]
  },
  {
   "cell_type": "code",
   "execution_count": 58,
   "id": "33e6a372",
   "metadata": {},
   "outputs": [
    {
     "data": {
      "text/plain": [
       "array([[1., 0., 0., 0.],\n",
       "       [0., 1., 0., 0.],\n",
       "       [0., 0., 1., 0.],\n",
       "       [0., 0., 0., 1.]])"
      ]
     },
     "execution_count": 58,
     "metadata": {},
     "output_type": "execute_result"
    }
   ],
   "source": [
    "arr = np.eye(4,4)\n",
    "arr"
   ]
  },
  {
   "cell_type": "markdown",
   "id": "fd3c08eb",
   "metadata": {},
   "source": [
    "**Create an array of 5 numbers evenly spaced between 0 and 1.**"
   ]
  },
  {
   "cell_type": "code",
   "execution_count": 59,
   "id": "94af9ecc",
   "metadata": {},
   "outputs": [
    {
     "data": {
      "text/plain": [
       "array([0.  , 0.25, 0.5 , 0.75, 1.  ])"
      ]
     },
     "execution_count": 59,
     "metadata": {},
     "output_type": "execute_result"
    }
   ],
   "source": [
    "arr =np.linspace(0,1,5)\n",
    "arr "
   ]
  },
  {
   "cell_type": "markdown",
   "id": "1e97c2fc",
   "metadata": {},
   "source": [
    "**Create a 3x4 array filled with random numbers between 0 and 1.**"
   ]
  },
  {
   "cell_type": "code",
   "execution_count": 60,
   "id": "ec78dc63",
   "metadata": {},
   "outputs": [
    {
     "data": {
      "text/plain": [
       "array([[0.3916455 , 0.64169205, 0.07536445, 0.75160161],\n",
       "       [0.04100611, 0.53637295, 0.82493557, 0.14799973],\n",
       "       [0.02181621, 0.68100354, 0.10368862, 0.31516479]])"
      ]
     },
     "execution_count": 60,
     "metadata": {},
     "output_type": "execute_result"
    }
   ],
   "source": [
    "arr = np.random.rand(3,4)\n",
    "arr \n",
    "\n"
   ]
  },
  {
   "cell_type": "markdown",
   "id": "cbfe8f71",
   "metadata": {},
   "source": [
    "**Create a 5x5 array with random integers from 1 to 100.**"
   ]
  },
  {
   "cell_type": "code",
   "execution_count": 61,
   "id": "3074edc4",
   "metadata": {},
   "outputs": [
    {
     "data": {
      "text/plain": [
       "array([[64, 43, 81, 10, 84],\n",
       "       [56, 83, 41, 41, 65],\n",
       "       [ 7, 46, 98, 95, 20],\n",
       "       [10,  8, 84, 22, 86],\n",
       "       [65,  3, 77, 15, 28]], dtype=int32)"
      ]
     },
     "execution_count": 61,
     "metadata": {},
     "output_type": "execute_result"
    }
   ],
   "source": [
    "arr = np.random.randint(1,101, size = (5,5))\n",
    "arr"
   ]
  },
  {
   "cell_type": "markdown",
   "id": "513e3995",
   "metadata": {},
   "source": [
    "**Given the array arr = np.arange(25).reshape(5, 5), find its shape**"
   ]
  },
  {
   "cell_type": "code",
   "execution_count": 62,
   "id": "f3ec3fdb",
   "metadata": {},
   "outputs": [
    {
     "data": {
      "text/plain": [
       "(5, 5)"
      ]
     },
     "execution_count": 62,
     "metadata": {},
     "output_type": "execute_result"
    }
   ],
   "source": [
    "arr = np.arange(25).reshape(5, 5)\n",
    "arr.shape"
   ]
  },
  {
   "cell_type": "markdown",
   "id": "e5840dff",
   "metadata": {},
   "source": [
    "**For the same array arr, find its data type.**"
   ]
  },
  {
   "cell_type": "code",
   "execution_count": 63,
   "id": "f9acbda3",
   "metadata": {},
   "outputs": [
    {
     "name": "stdout",
     "output_type": "stream",
     "text": [
      "(5, 5)\n"
     ]
    },
    {
     "data": {
      "text/plain": [
       "dtype('int64')"
      ]
     },
     "execution_count": 63,
     "metadata": {},
     "output_type": "execute_result"
    }
   ],
   "source": [
    "arr = np.arange(25).reshape(5, 5)\n",
    "print(arr.shape)\n",
    "\n",
    "arr2= arr.dtype\n",
    "arr2"
   ]
  },
  {
   "cell_type": "markdown",
   "id": "a710787f",
   "metadata": {},
   "source": [
    "**For the same array arr, find the total number of elements.**"
   ]
  },
  {
   "cell_type": "code",
   "execution_count": 64,
   "id": "3f6b26c3",
   "metadata": {},
   "outputs": [
    {
     "data": {
      "text/plain": [
       "25"
      ]
     },
     "execution_count": 64,
     "metadata": {},
     "output_type": "execute_result"
    }
   ],
   "source": [
    "arr3 = arr.size\n",
    "arr3"
   ]
  },
  {
   "cell_type": "markdown",
   "id": "daf8f615",
   "metadata": {},
   "source": [
    "**Create the array [1, 2, 3] but make sure its data type is float.**"
   ]
  },
  {
   "cell_type": "code",
   "execution_count": 65,
   "id": "61b834ca",
   "metadata": {},
   "outputs": [
    {
     "data": {
      "text/plain": [
       "array([1., 2., 3.])"
      ]
     },
     "execution_count": 65,
     "metadata": {},
     "output_type": "execute_result"
    }
   ],
   "source": [
    "arr = np.array((1,2,3), dtype=float)\n",
    "arr"
   ]
  },
  {
   "cell_type": "markdown",
   "id": "7e1eb294",
   "metadata": {},
   "source": [
    "**Convert the data type of an existing integer array to float**"
   ]
  },
  {
   "cell_type": "code",
   "execution_count": 68,
   "id": "d7115ba9",
   "metadata": {},
   "outputs": [
    {
     "data": {
      "text/plain": [
       "array([1., 2., 3., 4., 5.])"
      ]
     },
     "execution_count": 68,
     "metadata": {},
     "output_type": "execute_result"
    }
   ],
   "source": [
    "arr = np.array([1,2,3,4,5,])\n",
    "float_arr = arr.astype(float)\n",
    "d_type = float_arr.dtype\n",
    "d_type\n",
    "float_arr\n"
   ]
  },
  {
   "cell_type": "markdown",
   "id": "a9d5825c",
   "metadata": {},
   "source": []
  },
  {
   "cell_type": "code",
   "execution_count": null,
   "id": "15b392a8",
   "metadata": {},
   "outputs": [],
   "source": []
  }
 ],
 "metadata": {
  "kernelspec": {
   "display_name": "base",
   "language": "python",
   "name": "python3"
  },
  "language_info": {
   "codemirror_mode": {
    "name": "ipython",
    "version": 3
   },
   "file_extension": ".py",
   "mimetype": "text/x-python",
   "name": "python",
   "nbconvert_exporter": "python",
   "pygments_lexer": "ipython3",
   "version": "3.13.5"
  }
 },
 "nbformat": 4,
 "nbformat_minor": 5
}
