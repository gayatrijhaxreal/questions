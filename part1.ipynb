{
 "cells": [
  {
   "cell_type": "markdown",
   "id": "65e6ab8f",
   "metadata": {},
   "source": [
    "**1. Import the NumPy library with the alias np.**\n",
    "**"
   ]
  },
  {
   "cell_type": "code",
   "execution_count": 1,
   "id": "3d2fe8a1",
   "metadata": {},
   "outputs": [],
   "source": [
    "import numpy as np"
   ]
  },
  {
   "cell_type": "markdown",
   "id": "4646ce10",
   "metadata": {},
   "source": [
    "**Create a 1D NumPy array from the Python list [1, 2, 3, 4, 5]**"
   ]
  },
  {
   "cell_type": "code",
   "execution_count": 2,
   "id": "ce16b6da",
   "metadata": {},
   "outputs": [
    {
     "data": {
      "text/plain": [
       "array([1, 2, 3, 4, 5])"
      ]
     },
     "execution_count": 2,
     "metadata": {},
     "output_type": "execute_result"
    }
   ],
   "source": [
    "list = np.array([1,2,3,4,5])\n",
    "list"
   ]
  },
  {
   "cell_type": "markdown",
   "id": "e64b0efe",
   "metadata": {},
   "source": [
    "**Create a 1D array of 10 zeros**"
   ]
  },
  {
   "cell_type": "code",
   "execution_count": 3,
   "id": "0f721b15",
   "metadata": {},
   "outputs": [
    {
     "data": {
      "text/plain": [
       "array([0., 0., 0., 0., 0., 0., 0., 0., 0., 0.])"
      ]
     },
     "execution_count": 3,
     "metadata": {},
     "output_type": "execute_result"
    }
   ],
   "source": [
    "zeros = np.zeros(10)\n",
    "zeros"
   ]
  },
  {
   "cell_type": "markdown",
   "id": "01b39151",
   "metadata": {},
   "source": [
    "**Create a 3x3 array filled with ones**"
   ]
  },
  {
   "cell_type": "code",
   "execution_count": 4,
   "id": "f0d3187f",
   "metadata": {},
   "outputs": [
    {
     "data": {
      "text/plain": [
       "array([[1., 1., 1.],\n",
       "       [1., 1., 1.],\n",
       "       [1., 1., 1.]])"
      ]
     },
     "execution_count": 4,
     "metadata": {},
     "output_type": "execute_result"
    }
   ],
   "source": [
    "ones = np.ones(9).reshape(3,3)\n",
    "ones"
   ]
  },
  {
   "cell_type": "markdown",
   "id": "27e83fc4",
   "metadata": {},
   "source": [
    "**Create an array of all even integers from 10 to 50.**"
   ]
  },
  {
   "cell_type": "code",
   "execution_count": 5,
   "id": "0a04eaef",
   "metadata": {},
   "outputs": [
    {
     "data": {
      "text/plain": [
       "array([10, 12, 14, 16, 18, 20, 22, 24, 26, 28, 30, 32, 34, 36, 38, 40, 42,\n",
       "       44, 46, 48, 50])"
      ]
     },
     "execution_count": 5,
     "metadata": {},
     "output_type": "execute_result"
    }
   ],
   "source": [
    "arr = np.arange(10,51)\n",
    "arr\n",
    "even = arr[::2]\n",
    "even"
   ]
  },
  {
   "cell_type": "markdown",
   "id": "8b01e21a",
   "metadata": {},
   "source": [
    "**Create a 3x3 matrix with values ranging from 0 to 8.**"
   ]
  },
  {
   "cell_type": "code",
   "execution_count": 6,
   "id": "62ad349f",
   "metadata": {},
   "outputs": [
    {
     "data": {
      "text/plain": [
       "array([[0, 1, 2],\n",
       "       [3, 4, 5],\n",
       "       [6, 7, 8]])"
      ]
     },
     "execution_count": 6,
     "metadata": {},
     "output_type": "execute_result"
    }
   ],
   "source": [
    "arr = np.arange(0,9) .reshape(3,3)\n",
    "arr"
   ]
  },
  {
   "cell_type": "code",
   "execution_count": 7,
   "id": "33e6a372",
   "metadata": {},
   "outputs": [
    {
     "data": {
      "text/plain": [
       "array([[1., 0., 0., 0.],\n",
       "       [0., 1., 0., 0.],\n",
       "       [0., 0., 1., 0.],\n",
       "       [0., 0., 0., 1.]])"
      ]
     },
     "execution_count": 7,
     "metadata": {},
     "output_type": "execute_result"
    }
   ],
   "source": [
    "arr = np.eye(4,4)\n",
    "arr"
   ]
  },
  {
   "cell_type": "markdown",
   "id": "fd3c08eb",
   "metadata": {},
   "source": [
    "**Create an array of 5 numbers evenly spaced between 0 and 1.**"
   ]
  },
  {
   "cell_type": "code",
   "execution_count": 8,
   "id": "94af9ecc",
   "metadata": {},
   "outputs": [
    {
     "data": {
      "text/plain": [
       "array([0.  , 0.25, 0.5 , 0.75, 1.  ])"
      ]
     },
     "execution_count": 8,
     "metadata": {},
     "output_type": "execute_result"
    }
   ],
   "source": [
    "arr =np.linspace(0,1,5)\n",
    "arr "
   ]
  },
  {
   "cell_type": "markdown",
   "id": "1e97c2fc",
   "metadata": {},
   "source": [
    "**Create a 3x4 array filled with random numbers between 0 and 1.**"
   ]
  },
  {
   "cell_type": "code",
   "execution_count": 9,
   "id": "ec78dc63",
   "metadata": {},
   "outputs": [
    {
     "data": {
      "text/plain": [
       "array([[0.92572891, 0.75644616, 0.43624263, 0.00189627],\n",
       "       [0.7647522 , 0.23363317, 0.40332993, 0.68799057],\n",
       "       [0.01892908, 0.15579805, 0.58730509, 0.59740561]])"
      ]
     },
     "execution_count": 9,
     "metadata": {},
     "output_type": "execute_result"
    }
   ],
   "source": [
    "arr = np.random.rand(3,4)\n",
    "arr \n",
    "\n"
   ]
  },
  {
   "cell_type": "markdown",
   "id": "cbfe8f71",
   "metadata": {},
   "source": [
    "**Create a 5x5 array with random integers from 1 to 100.**"
   ]
  },
  {
   "cell_type": "code",
   "execution_count": 10,
   "id": "3074edc4",
   "metadata": {},
   "outputs": [
    {
     "data": {
      "text/plain": [
       "array([[79, 83, 17, 84, 26],\n",
       "       [82, 10, 88, 34, 16],\n",
       "       [ 2, 60, 64, 65, 58],\n",
       "       [82, 30, 57, 52, 53],\n",
       "       [61, 27, 76, 13,  2]], dtype=int32)"
      ]
     },
     "execution_count": 10,
     "metadata": {},
     "output_type": "execute_result"
    }
   ],
   "source": [
    "arr = np.random.randint(1,101, size = (5,5))\n",
    "arr"
   ]
  },
  {
   "cell_type": "markdown",
   "id": "513e3995",
   "metadata": {},
   "source": [
    "**Given the array arr = np.arange(25).reshape(5, 5), find its shape**"
   ]
  },
  {
   "cell_type": "code",
   "execution_count": 11,
   "id": "f3ec3fdb",
   "metadata": {},
   "outputs": [
    {
     "data": {
      "text/plain": [
       "(5, 5)"
      ]
     },
     "execution_count": 11,
     "metadata": {},
     "output_type": "execute_result"
    }
   ],
   "source": [
    "arr = np.arange(25).reshape(5, 5)\n",
    "arr.shape"
   ]
  },
  {
   "cell_type": "markdown",
   "id": "e5840dff",
   "metadata": {},
   "source": [
    "**For the same array arr, find its data type.**"
   ]
  },
  {
   "cell_type": "code",
   "execution_count": 12,
   "id": "f9acbda3",
   "metadata": {},
   "outputs": [
    {
     "name": "stdout",
     "output_type": "stream",
     "text": [
      "(5, 5)\n"
     ]
    },
    {
     "data": {
      "text/plain": [
       "dtype('int64')"
      ]
     },
     "execution_count": 12,
     "metadata": {},
     "output_type": "execute_result"
    }
   ],
   "source": [
    "arr = np.arange(25).reshape(5, 5)\n",
    "print(arr.shape)\n",
    "\n",
    "arr2= arr.dtype\n",
    "arr2"
   ]
  },
  {
   "cell_type": "markdown",
   "id": "a710787f",
   "metadata": {},
   "source": [
    "**For the same array arr, find the total number of elements.**"
   ]
  },
  {
   "cell_type": "code",
   "execution_count": 13,
   "id": "3f6b26c3",
   "metadata": {},
   "outputs": [
    {
     "data": {
      "text/plain": [
       "25"
      ]
     },
     "execution_count": 13,
     "metadata": {},
     "output_type": "execute_result"
    }
   ],
   "source": [
    "arr3 = arr.size\n",
    "arr3"
   ]
  },
  {
   "cell_type": "markdown",
   "id": "daf8f615",
   "metadata": {},
   "source": [
    "**Create the array [1, 2, 3] but make sure its data type is float.**"
   ]
  },
  {
   "cell_type": "code",
   "execution_count": 14,
   "id": "61b834ca",
   "metadata": {},
   "outputs": [
    {
     "data": {
      "text/plain": [
       "array([1., 2., 3.])"
      ]
     },
     "execution_count": 14,
     "metadata": {},
     "output_type": "execute_result"
    }
   ],
   "source": [
    "arr = np.array((1,2,3), dtype=float)\n",
    "arr"
   ]
  },
  {
   "cell_type": "markdown",
   "id": "7e1eb294",
   "metadata": {},
   "source": [
    "**Convert the data type of an existing integer array to float**"
   ]
  },
  {
   "cell_type": "code",
   "execution_count": 15,
   "id": "d7115ba9",
   "metadata": {},
   "outputs": [
    {
     "data": {
      "text/plain": [
       "array([1., 2., 3., 4., 5.])"
      ]
     },
     "execution_count": 15,
     "metadata": {},
     "output_type": "execute_result"
    }
   ],
   "source": [
    "arr = np.array([1,2,3,4,5,])\n",
    "float_arr = arr.astype(float)\n",
    "d_type = float_arr.dtype\n",
    "d_type\n",
    "float_arr\n"
   ]
  },
  {
   "cell_type": "markdown",
   "id": "a9d5825c",
   "metadata": {},
   "source": []
  },
  {
   "cell_type": "code",
   "execution_count": null,
   "id": "15b392a8",
   "metadata": {},
   "outputs": [],
   "source": []
  }
 ],
 "metadata": {
  "kernelspec": {
   "display_name": "Python 3",
   "language": "python",
   "name": "python3"
  },
  "language_info": {
   "codemirror_mode": {
    "name": "ipython",
    "version": 3
   },
   "file_extension": ".py",
   "mimetype": "text/x-python",
   "name": "python",
   "nbconvert_exporter": "python",
   "pygments_lexer": "ipython3",
   "version": "3.13.7"
  }
 },
 "nbformat": 4,
 "nbformat_minor": 5
}
